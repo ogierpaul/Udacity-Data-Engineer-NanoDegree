{
 "cells": [
  {
   "cell_type": "markdown",
   "metadata": {
    "collapsed": true,
    "pycharm": {
     "name": "#%% md\n"
    }
   },
   "source": [
    "# Imports"
   ]
  },
  {
   "cell_type": "code",
   "execution_count": 2,
   "metadata": {
    "pycharm": {
     "name": "#%%\n"
    }
   },
   "outputs": [],
   "source": [
    "import os\n",
    "import pandas as pd\n",
    "import psycopg2"
   ]
  },
  {
   "cell_type": "markdown",
   "metadata": {},
   "source": [
    "## Read using pandas"
   ]
  },
  {
   "cell_type": "code",
   "execution_count": 46,
   "metadata": {},
   "outputs": [],
   "source": [
    "songfolder = './../data/song_data/'\n",
    "outputfolder = './../stagingarea/'\n",
    "def process_folder(path):\n",
    "    dfs = []\n",
    "    for dirpath, dirs, files in os.walk(path):\n",
    "        for file in files:\n",
    "            if file.endswith(\".json\"):\n",
    "                dfs.append(pd.read_json(os.path.join(os.path.abspath(dirpath), file), lines=True))\n",
    "    df = pd.concat(dfs).reset_index(drop=True)\n",
    "    return df"
   ]
  },
  {
   "cell_type": "code",
   "execution_count": 40,
   "metadata": {},
   "outputs": [],
   "source": [
    "def readsongdata(df):\n",
    "    usecols = [\n",
    "        'artist_id',\n",
    "     'artist_latitude',\n",
    "     'artist_location',\n",
    "     'artist_longitude',\n",
    "    'artist_name',\n",
    "     'duration',\n",
    "     'song_id',\n",
    "     'title', \n",
    "        'year'\n",
    "    ]\n",
    "    df = df[usecols]\n",
    "    return df"
   ]
  },
  {
   "cell_type": "code",
   "execution_count": 4,
   "metadata": {},
   "outputs": [
    {
     "name": "stdout",
     "output_type": "stream",
     "text": [
      "1\n"
     ]
    }
   ],
   "source": [
    "def connecttopostgre():\n",
    "    conn = psycopg2.connect(\"host=pgs dbname=mydb user=myuser password={}\".format(os.environ.get(\"POSTGRES_PASSWORD\")))\n",
    "    conn.autocommit = True\n",
    "    print(conn.status)\n",
    "    return conn\n",
    "conn = connecttopostgre()\n",
    "cur = conn.cursor()"
   ]
  },
  {
   "cell_type": "code",
   "execution_count": 55,
   "metadata": {},
   "outputs": [],
   "source": [
    "songs = process_folder(songfolder)\n",
    "songs = readsongdata(songs)\n",
    "songs.to_csv('raw_songs.csv', index=False, sep='|', encoding='utf-8')"
   ]
  },
  {
   "cell_type": "code",
   "execution_count": 54,
   "metadata": {},
   "outputs": [
    {
     "ename": "UndefinedTable",
     "evalue": "relation \"staging_songs\" does not exist\n",
     "output_type": "error",
     "traceback": [
      "\u001b[0;31m---------------------------------------------------------------------------\u001b[0m",
      "\u001b[0;31mUndefinedTable\u001b[0m                            Traceback (most recent call last)",
      "\u001b[0;32m<ipython-input-54-2f099a2786df>\u001b[0m in \u001b[0;36m<module>\u001b[0;34m\u001b[0m\n\u001b[1;32m      2\u001b[0m \u001b[0mCOPY\u001b[0m \u001b[0mstaging_songs\u001b[0m \u001b[0mFROM\u001b[0m \u001b[0;34m'/stagingarea/raw_songs.csv'\u001b[0m \u001b[0mWITH\u001b[0m \u001b[0mCSV\u001b[0m \u001b[0mHEADER\u001b[0m \u001b[0mDELIMITER\u001b[0m \u001b[0;34m'|'\u001b[0m\u001b[0;34m\u001b[0m\u001b[0;34m\u001b[0m\u001b[0m\n\u001b[1;32m      3\u001b[0m '''\n\u001b[0;32m----> 4\u001b[0;31m \u001b[0mcur\u001b[0m\u001b[0;34m.\u001b[0m\u001b[0mexecute\u001b[0m\u001b[0;34m(\u001b[0m\u001b[0mq_copysongs\u001b[0m\u001b[0;34m)\u001b[0m\u001b[0;34m\u001b[0m\u001b[0;34m\u001b[0m\u001b[0m\n\u001b[0m",
      "\u001b[0;31mUndefinedTable\u001b[0m: relation \"staging_songs\" does not exist\n"
     ]
    }
   ],
   "source": [
    "q_copysongs = '''\n",
    "COPY staging_songs (\n",
    "    artist_id,\n",
    " artist_latitude,\n",
    " artist_location,\n",
    " artist_longitude,\n",
    " artist_name,\n",
    " duration,\n",
    " song_id,\n",
    " title, \n",
    " year)\n",
    "FROM '/home/data/raw_songs.csv'\n",
    "WITH CSV HEADER DELIMITER '|';\n",
    "'''\n",
    "cur.execute(q_copysongs)"
   ]
  },
  {
   "cell_type": "code",
   "execution_count": 18,
   "metadata": {},
   "outputs": [
    {
     "data": {
      "text/plain": [
       "[(0,)]"
      ]
     },
     "execution_count": 18,
     "metadata": {},
     "output_type": "execute_result"
    }
   ],
   "source": [
    "cur.execute('SELECT COUNT(*) FROM staging_songs LIMIT 5;')\n",
    "cur.fetchall()"
   ]
  },
  {
   "cell_type": "code",
   "execution_count": 19,
   "metadata": {},
   "outputs": [
    {
     "data": {
      "text/plain": [
       "[(71,)]"
      ]
     },
     "execution_count": 19,
     "metadata": {},
     "output_type": "execute_result"
    }
   ],
   "source": [
    "cur.execute('SELECT COUNT(*) FROM songs LIMIT 5;')\n",
    "cur.fetchall()"
   ]
  },
  {
   "cell_type": "code",
   "execution_count": 20,
   "metadata": {},
   "outputs": [
    {
     "data": {
      "text/plain": [
       "[(69,)]"
      ]
     },
     "execution_count": 20,
     "metadata": {},
     "output_type": "execute_result"
    }
   ],
   "source": [
    "cur.execute('SELECT COUNT(*) FROM artists LIMIT 5;')\n",
    "cur.fetchall()"
   ]
  },
  {
   "cell_type": "code",
   "execution_count": 27,
   "metadata": {},
   "outputs": [
    {
     "data": {
      "text/html": [
       "<div>\n",
       "<style scoped>\n",
       "    .dataframe tbody tr th:only-of-type {\n",
       "        vertical-align: middle;\n",
       "    }\n",
       "\n",
       "    .dataframe tbody tr th {\n",
       "        vertical-align: top;\n",
       "    }\n",
       "\n",
       "    .dataframe thead th {\n",
       "        text-align: right;\n",
       "    }\n",
       "</style>\n",
       "<table border=\"1\" class=\"dataframe\">\n",
       "  <thead>\n",
       "    <tr style=\"text-align: right;\">\n",
       "      <th></th>\n",
       "      <th>artist</th>\n",
       "      <th>auth</th>\n",
       "      <th>firstName</th>\n",
       "      <th>gender</th>\n",
       "      <th>itemInSession</th>\n",
       "      <th>lastName</th>\n",
       "      <th>length</th>\n",
       "      <th>level</th>\n",
       "      <th>location</th>\n",
       "      <th>method</th>\n",
       "      <th>page</th>\n",
       "      <th>registration</th>\n",
       "      <th>sessionId</th>\n",
       "      <th>song</th>\n",
       "      <th>status</th>\n",
       "      <th>ts</th>\n",
       "      <th>userAgent</th>\n",
       "      <th>userId</th>\n",
       "    </tr>\n",
       "  </thead>\n",
       "  <tbody>\n",
       "    <tr>\n",
       "      <th>7472</th>\n",
       "      <td>Danilo Montero</td>\n",
       "      <td>Logged In</td>\n",
       "      <td>Kinsley</td>\n",
       "      <td>F</td>\n",
       "      <td>28</td>\n",
       "      <td>Young</td>\n",
       "      <td>233.48200</td>\n",
       "      <td>paid</td>\n",
       "      <td>Red Bluff, CA</td>\n",
       "      <td>PUT</td>\n",
       "      <td>NextSong</td>\n",
       "      <td>1.540465e+12</td>\n",
       "      <td>436</td>\n",
       "      <td>El es el Rey</td>\n",
       "      <td>200</td>\n",
       "      <td>1542379177796</td>\n",
       "      <td>\"Mozilla/5.0 (Macintosh; Intel Mac OS X 10_10_...</td>\n",
       "      <td>85.0</td>\n",
       "    </tr>\n",
       "    <tr>\n",
       "      <th>1030</th>\n",
       "      <td>Anna Tatangelo</td>\n",
       "      <td>Logged In</td>\n",
       "      <td>Jordan</td>\n",
       "      <td>F</td>\n",
       "      <td>0</td>\n",
       "      <td>Hicks</td>\n",
       "      <td>218.93179</td>\n",
       "      <td>free</td>\n",
       "      <td>Salinas, CA</td>\n",
       "      <td>PUT</td>\n",
       "      <td>NextSong</td>\n",
       "      <td>1.540009e+12</td>\n",
       "      <td>552</td>\n",
       "      <td>Il Mio Amico</td>\n",
       "      <td>200</td>\n",
       "      <td>1542196566796</td>\n",
       "      <td>\"Mozilla/5.0 (Macintosh; Intel Mac OS X 10_9_4...</td>\n",
       "      <td>37.0</td>\n",
       "    </tr>\n",
       "    <tr>\n",
       "      <th>4376</th>\n",
       "      <td>Harmonia</td>\n",
       "      <td>Logged In</td>\n",
       "      <td>Avery</td>\n",
       "      <td>F</td>\n",
       "      <td>55</td>\n",
       "      <td>Watkins</td>\n",
       "      <td>655.77751</td>\n",
       "      <td>paid</td>\n",
       "      <td>San Jose-Sunnyvale-Santa Clara, CA</td>\n",
       "      <td>PUT</td>\n",
       "      <td>NextSong</td>\n",
       "      <td>1.540872e+12</td>\n",
       "      <td>324</td>\n",
       "      <td>Sehr kosmisch</td>\n",
       "      <td>200</td>\n",
       "      <td>1542288215796</td>\n",
       "      <td>Mozilla/5.0 (Windows NT 6.1; WOW64; rv:31.0) G...</td>\n",
       "      <td>30.0</td>\n",
       "    </tr>\n",
       "    <tr>\n",
       "      <th>5494</th>\n",
       "      <td>Wordsworth</td>\n",
       "      <td>Logged In</td>\n",
       "      <td>Lily</td>\n",
       "      <td>F</td>\n",
       "      <td>49</td>\n",
       "      <td>Koch</td>\n",
       "      <td>253.15220</td>\n",
       "      <td>paid</td>\n",
       "      <td>Chicago-Naperville-Elgin, IL-IN-WI</td>\n",
       "      <td>PUT</td>\n",
       "      <td>NextSong</td>\n",
       "      <td>1.541048e+12</td>\n",
       "      <td>818</td>\n",
       "      <td>Right Now (Produced by Ayatollah)</td>\n",
       "      <td>200</td>\n",
       "      <td>1542848253796</td>\n",
       "      <td>\"Mozilla/5.0 (X11; Linux x86_64) AppleWebKit/5...</td>\n",
       "      <td>15.0</td>\n",
       "    </tr>\n",
       "    <tr>\n",
       "      <th>338</th>\n",
       "      <td>Angus &amp; Julia Stone</td>\n",
       "      <td>Logged In</td>\n",
       "      <td>Mohammad</td>\n",
       "      <td>M</td>\n",
       "      <td>32</td>\n",
       "      <td>Rodriguez</td>\n",
       "      <td>290.71628</td>\n",
       "      <td>paid</td>\n",
       "      <td>Sacramento--Roseville--Arden-Arcade, CA</td>\n",
       "      <td>PUT</td>\n",
       "      <td>NextSong</td>\n",
       "      <td>1.540512e+12</td>\n",
       "      <td>812</td>\n",
       "      <td>What You Wanted</td>\n",
       "      <td>200</td>\n",
       "      <td>1542994949796</td>\n",
       "      <td>\"Mozilla/5.0 (Macintosh; Intel Mac OS X 10_9_4...</td>\n",
       "      <td>88.0</td>\n",
       "    </tr>\n",
       "    <tr>\n",
       "      <th>4775</th>\n",
       "      <td>Havok</td>\n",
       "      <td>Logged In</td>\n",
       "      <td>Noah</td>\n",
       "      <td>M</td>\n",
       "      <td>0</td>\n",
       "      <td>Chavez</td>\n",
       "      <td>227.68281</td>\n",
       "      <td>free</td>\n",
       "      <td>Ogden-Clearfield, UT</td>\n",
       "      <td>PUT</td>\n",
       "      <td>NextSong</td>\n",
       "      <td>1.540971e+12</td>\n",
       "      <td>150</td>\n",
       "      <td>Ivory Tower</td>\n",
       "      <td>200</td>\n",
       "      <td>1541392598796</td>\n",
       "      <td>Mozilla/5.0 (Windows NT 6.1; WOW64; rv:32.0) G...</td>\n",
       "      <td>94.0</td>\n",
       "    </tr>\n",
       "    <tr>\n",
       "      <th>4145</th>\n",
       "      <td>Sugar Pie DeSanto</td>\n",
       "      <td>Logged In</td>\n",
       "      <td>Tegan</td>\n",
       "      <td>F</td>\n",
       "      <td>16</td>\n",
       "      <td>Levine</td>\n",
       "      <td>169.50812</td>\n",
       "      <td>paid</td>\n",
       "      <td>Portland-South Portland, ME</td>\n",
       "      <td>PUT</td>\n",
       "      <td>NextSong</td>\n",
       "      <td>1.540794e+12</td>\n",
       "      <td>992</td>\n",
       "      <td>Soulful Dress</td>\n",
       "      <td>200</td>\n",
       "      <td>1543350815796</td>\n",
       "      <td>\"Mozilla/5.0 (Macintosh; Intel Mac OS X 10_9_4...</td>\n",
       "      <td>80.0</td>\n",
       "    </tr>\n",
       "    <tr>\n",
       "      <th>2383</th>\n",
       "      <td>Cage The Elephant</td>\n",
       "      <td>Logged In</td>\n",
       "      <td>Rylan</td>\n",
       "      <td>M</td>\n",
       "      <td>20</td>\n",
       "      <td>George</td>\n",
       "      <td>196.38812</td>\n",
       "      <td>paid</td>\n",
       "      <td>Birmingham-Hoover, AL</td>\n",
       "      <td>PUT</td>\n",
       "      <td>NextSong</td>\n",
       "      <td>1.541020e+12</td>\n",
       "      <td>1076</td>\n",
       "      <td>Lotus</td>\n",
       "      <td>200</td>\n",
       "      <td>1543594323796</td>\n",
       "      <td>\"Mozilla/5.0 (Macintosh; Intel Mac OS X 10_9_4...</td>\n",
       "      <td>16.0</td>\n",
       "    </tr>\n",
       "    <tr>\n",
       "      <th>7575</th>\n",
       "      <td>HÃÂ©roes del Silencio</td>\n",
       "      <td>Logged In</td>\n",
       "      <td>Kate</td>\n",
       "      <td>F</td>\n",
       "      <td>27</td>\n",
       "      <td>Harrell</td>\n",
       "      <td>245.02812</td>\n",
       "      <td>paid</td>\n",
       "      <td>Lansing-East Lansing, MI</td>\n",
       "      <td>PUT</td>\n",
       "      <td>NextSong</td>\n",
       "      <td>1.540473e+12</td>\n",
       "      <td>633</td>\n",
       "      <td>Parasiempre</td>\n",
       "      <td>200</td>\n",
       "      <td>1542392251796</td>\n",
       "      <td>\"Mozilla/5.0 (X11; Linux x86_64) AppleWebKit/5...</td>\n",
       "      <td>97.0</td>\n",
       "    </tr>\n",
       "    <tr>\n",
       "      <th>987</th>\n",
       "      <td>Coldplay</td>\n",
       "      <td>Logged In</td>\n",
       "      <td>Jacqueline</td>\n",
       "      <td>F</td>\n",
       "      <td>12</td>\n",
       "      <td>Lynch</td>\n",
       "      <td>268.38159</td>\n",
       "      <td>paid</td>\n",
       "      <td>Atlanta-Sandy Springs-Roswell, GA</td>\n",
       "      <td>PUT</td>\n",
       "      <td>NextSong</td>\n",
       "      <td>1.540224e+12</td>\n",
       "      <td>559</td>\n",
       "      <td>Yellow</td>\n",
       "      <td>200</td>\n",
       "      <td>1542191429796</td>\n",
       "      <td>\"Mozilla/5.0 (Macintosh; Intel Mac OS X 10_9_4...</td>\n",
       "      <td>29.0</td>\n",
       "    </tr>\n",
       "  </tbody>\n",
       "</table>\n",
       "</div>"
      ],
      "text/plain": [
       "                      artist       auth   firstName gender  itemInSession  \\\n",
       "7472          Danilo Montero  Logged In     Kinsley      F             28   \n",
       "1030          Anna Tatangelo  Logged In      Jordan      F              0   \n",
       "4376                Harmonia  Logged In       Avery      F             55   \n",
       "5494              Wordsworth  Logged In        Lily      F             49   \n",
       "338      Angus & Julia Stone  Logged In    Mohammad      M             32   \n",
       "4775                   Havok  Logged In        Noah      M              0   \n",
       "4145       Sugar Pie DeSanto  Logged In       Tegan      F             16   \n",
       "2383       Cage The Elephant  Logged In       Rylan      M             20   \n",
       "7575  HÃÂ©roes del Silencio  Logged In        Kate      F             27   \n",
       "987                 Coldplay  Logged In  Jacqueline      F             12   \n",
       "\n",
       "       lastName     length level                                 location  \\\n",
       "7472      Young  233.48200  paid                            Red Bluff, CA   \n",
       "1030      Hicks  218.93179  free                              Salinas, CA   \n",
       "4376    Watkins  655.77751  paid       San Jose-Sunnyvale-Santa Clara, CA   \n",
       "5494       Koch  253.15220  paid       Chicago-Naperville-Elgin, IL-IN-WI   \n",
       "338   Rodriguez  290.71628  paid  Sacramento--Roseville--Arden-Arcade, CA   \n",
       "4775     Chavez  227.68281  free                     Ogden-Clearfield, UT   \n",
       "4145     Levine  169.50812  paid              Portland-South Portland, ME   \n",
       "2383     George  196.38812  paid                    Birmingham-Hoover, AL   \n",
       "7575    Harrell  245.02812  paid                 Lansing-East Lansing, MI   \n",
       "987       Lynch  268.38159  paid        Atlanta-Sandy Springs-Roswell, GA   \n",
       "\n",
       "     method      page  registration  sessionId  \\\n",
       "7472    PUT  NextSong  1.540465e+12        436   \n",
       "1030    PUT  NextSong  1.540009e+12        552   \n",
       "4376    PUT  NextSong  1.540872e+12        324   \n",
       "5494    PUT  NextSong  1.541048e+12        818   \n",
       "338     PUT  NextSong  1.540512e+12        812   \n",
       "4775    PUT  NextSong  1.540971e+12        150   \n",
       "4145    PUT  NextSong  1.540794e+12        992   \n",
       "2383    PUT  NextSong  1.541020e+12       1076   \n",
       "7575    PUT  NextSong  1.540473e+12        633   \n",
       "987     PUT  NextSong  1.540224e+12        559   \n",
       "\n",
       "                                   song  status             ts  \\\n",
       "7472                       El es el Rey     200  1542379177796   \n",
       "1030                       Il Mio Amico     200  1542196566796   \n",
       "4376                      Sehr kosmisch     200  1542288215796   \n",
       "5494  Right Now (Produced by Ayatollah)     200  1542848253796   \n",
       "338                     What You Wanted     200  1542994949796   \n",
       "4775                        Ivory Tower     200  1541392598796   \n",
       "4145                      Soulful Dress     200  1543350815796   \n",
       "2383                              Lotus     200  1543594323796   \n",
       "7575                        Parasiempre     200  1542392251796   \n",
       "987                              Yellow     200  1542191429796   \n",
       "\n",
       "                                              userAgent  userId  \n",
       "7472  \"Mozilla/5.0 (Macintosh; Intel Mac OS X 10_10_...    85.0  \n",
       "1030  \"Mozilla/5.0 (Macintosh; Intel Mac OS X 10_9_4...    37.0  \n",
       "4376  Mozilla/5.0 (Windows NT 6.1; WOW64; rv:31.0) G...    30.0  \n",
       "5494  \"Mozilla/5.0 (X11; Linux x86_64) AppleWebKit/5...    15.0  \n",
       "338   \"Mozilla/5.0 (Macintosh; Intel Mac OS X 10_9_4...    88.0  \n",
       "4775  Mozilla/5.0 (Windows NT 6.1; WOW64; rv:32.0) G...    94.0  \n",
       "4145  \"Mozilla/5.0 (Macintosh; Intel Mac OS X 10_9_4...    80.0  \n",
       "2383  \"Mozilla/5.0 (Macintosh; Intel Mac OS X 10_9_4...    16.0  \n",
       "7575  \"Mozilla/5.0 (X11; Linux x86_64) AppleWebKit/5...    97.0  \n",
       "987   \"Mozilla/5.0 (Macintosh; Intel Mac OS X 10_9_4...    29.0  "
      ]
     },
     "execution_count": 27,
     "metadata": {},
     "output_type": "execute_result"
    }
   ],
   "source": [
    "df = pd.read_csv('/stagingarea/events.csv', sep='|')\n",
    "df.sample(10)"
   ]
  },
  {
   "cell_type": "code",
   "execution_count": null,
   "metadata": {},
   "outputs": [],
   "source": []
  }
 ],
 "metadata": {
  "kernelspec": {
   "display_name": "Python 3",
   "language": "python",
   "name": "python3"
  },
  "language_info": {
   "codemirror_mode": {
    "name": "ipython",
    "version": 3
   },
   "file_extension": ".py",
   "mimetype": "text/x-python",
   "name": "python",
   "nbconvert_exporter": "python",
   "pygments_lexer": "ipython3",
   "version": "3.8.6"
  },
  "pycharm": {
   "stem_cell": {
    "cell_type": "raw",
    "metadata": {
     "collapsed": false
    },
    "source": []
   }
  }
 },
 "nbformat": 4,
 "nbformat_minor": 1
}
