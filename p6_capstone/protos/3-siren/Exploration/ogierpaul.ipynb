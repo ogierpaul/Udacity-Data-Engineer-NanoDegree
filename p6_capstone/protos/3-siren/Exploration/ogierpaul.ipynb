{
 "cells": [
  {
   "cell_type": "code",
   "execution_count": 1,
   "metadata": {},
   "outputs": [
    {
     "data": {
      "application/vnd.jupyter.widget-view+json": {
       "model_id": "d1de2254aa5a41298b758feba4fb397f",
       "version_major": 2,
       "version_minor": 0
      },
      "text/plain": [
       "VBox()"
      ]
     },
     "metadata": {},
     "output_type": "display_data"
    },
    {
     "name": "stdout",
     "output_type": "stream",
     "text": [
      "Starting Spark application\n"
     ]
    },
    {
     "data": {
      "text/html": [
       "<table>\n",
       "<tr><th>ID</th><th>YARN Application ID</th><th>Kind</th><th>State</th><th>Spark UI</th><th>Driver log</th><th>Current session?</th></tr><tr><td>0</td><td>application_1606764412795_0001</td><td>pyspark</td><td>idle</td><td><a target=\"_blank\" href=\"http://ip-172-31-40-135.eu-central-1.compute.internal:20888/proxy/application_1606764412795_0001/\">Link</a></td><td><a target=\"_blank\" href=\"http://ip-172-31-40-135.eu-central-1.compute.internal:8042/node/containerlogs/container_1606764412795_0001_01_000001/livy\">Link</a></td><td>✔</td></tr></table>"
      ],
      "text/plain": [
       "<IPython.core.display.HTML object>"
      ]
     },
     "metadata": {},
     "output_type": "display_data"
    },
    {
     "data": {
      "application/vnd.jupyter.widget-view+json": {
       "model_id": "",
       "version_major": 2,
       "version_minor": 0
      },
      "text/plain": [
       "FloatProgress(value=0.0, bar_style='info', description='Progress:', layout=Layout(height='25px', width='50%'),…"
      ]
     },
     "metadata": {},
     "output_type": "display_data"
    },
    {
     "name": "stdout",
     "output_type": "stream",
     "text": [
      "SparkSession available as 'spark'.\n"
     ]
    },
    {
     "data": {
      "application/vnd.jupyter.widget-view+json": {
       "model_id": "",
       "version_major": 2,
       "version_minor": 0
      },
      "text/plain": [
       "FloatProgress(value=0.0, bar_style='info', description='Progress:', layout=Layout(height='25px', width='50%'),…"
      ]
     },
     "metadata": {},
     "output_type": "display_data"
    }
   ],
   "source": [
    "from pyspark.sql import functions as F"
   ]
  },
  {
   "cell_type": "code",
   "execution_count": 3,
   "metadata": {},
   "outputs": [
    {
     "data": {
      "application/vnd.jupyter.widget-view+json": {
       "model_id": "4aba8ccbe0c74874831ad94957d6fb4d",
       "version_major": 2,
       "version_minor": 0
      },
      "text/plain": [
       "VBox()"
      ]
     },
     "metadata": {},
     "output_type": "display_data"
    },
    {
     "data": {
      "application/vnd.jupyter.widget-view+json": {
       "model_id": "",
       "version_major": 2,
       "version_minor": 0
      },
      "text/plain": [
       "FloatProgress(value=0.0, bar_style='info', description='Progress:', layout=Layout(height='25px', width='50%'),…"
      ]
     },
     "metadata": {},
     "output_type": "display_data"
    }
   ],
   "source": [
    "from pyspark.sql import SparkSession"
   ]
  },
  {
   "cell_type": "code",
   "execution_count": 6,
   "metadata": {},
   "outputs": [
    {
     "data": {
      "application/vnd.jupyter.widget-view+json": {
       "model_id": "a34da0cf1852499c9459f7377a1a42fe",
       "version_major": 2,
       "version_minor": 0
      },
      "text/plain": [
       "VBox()"
      ]
     },
     "metadata": {},
     "output_type": "display_data"
    },
    {
     "data": {
      "application/vnd.jupyter.widget-view+json": {
       "model_id": "",
       "version_major": 2,
       "version_minor": 0
      },
      "text/plain": [
       "FloatProgress(value=0.0, bar_style='info', description='Progress:', layout=Layout(height='25px', width='50%'),…"
      ]
     },
     "metadata": {},
     "output_type": "display_data"
    }
   ],
   "source": [
    "spark = SparkSession.builder.getOrCreate()"
   ]
  },
  {
   "cell_type": "code",
   "execution_count": 8,
   "metadata": {},
   "outputs": [
    {
     "data": {
      "application/vnd.jupyter.widget-view+json": {
       "model_id": "b9d4281a43da4f45bb59ed2976ed1ee9",
       "version_major": 2,
       "version_minor": 0
      },
      "text/plain": [
       "VBox()"
      ]
     },
     "metadata": {},
     "output_type": "display_data"
    },
    {
     "data": {
      "application/vnd.jupyter.widget-view+json": {
       "model_id": "",
       "version_major": 2,
       "version_minor": 0
      },
      "text/plain": [
       "FloatProgress(value=0.0, bar_style='info', description='Progress:', layout=Layout(height='25px', width='50%'),…"
      ]
     },
     "metadata": {},
     "output_type": "display_data"
    },
    {
     "name": "stdout",
     "output_type": "stream",
     "text": [
      "21556921"
     ]
    }
   ],
   "source": [
    "mycsv = \"s3://paulogiereucentral1/3-SIREN/StockUniteLegale_utf8.csv\"\n",
    "df = spark.read.option(\"header\", \"true\").csv(mycsv)\n",
    "df.count()"
   ]
  },
  {
   "cell_type": "code",
   "execution_count": 9,
   "metadata": {},
   "outputs": [
    {
     "data": {
      "application/vnd.jupyter.widget-view+json": {
       "model_id": "16978dd846564847b0322be013b627dd",
       "version_major": 2,
       "version_minor": 0
      },
      "text/plain": [
       "VBox()"
      ]
     },
     "metadata": {},
     "output_type": "display_data"
    },
    {
     "data": {
      "application/vnd.jupyter.widget-view+json": {
       "model_id": "",
       "version_major": 2,
       "version_minor": 0
      },
      "text/plain": [
       "FloatProgress(value=0.0, bar_style='info', description='Progress:', layout=Layout(height='25px', width='50%'),…"
      ]
     },
     "metadata": {},
     "output_type": "display_data"
    },
    {
     "name": "stdout",
     "output_type": "stream",
     "text": [
      "root\n",
      " |-- siren: string (nullable = true)\n",
      " |-- statutDiffusionUniteLegale: string (nullable = true)\n",
      " |-- unitePurgeeUniteLegale: string (nullable = true)\n",
      " |-- dateCreationUniteLegale: string (nullable = true)\n",
      " |-- sigleUniteLegale: string (nullable = true)\n",
      " |-- sexeUniteLegale: string (nullable = true)\n",
      " |-- prenom1UniteLegale: string (nullable = true)\n",
      " |-- prenom2UniteLegale: string (nullable = true)\n",
      " |-- prenom3UniteLegale: string (nullable = true)\n",
      " |-- prenom4UniteLegale: string (nullable = true)\n",
      " |-- prenomUsuelUniteLegale: string (nullable = true)\n",
      " |-- pseudonymeUniteLegale: string (nullable = true)\n",
      " |-- identifiantAssociationUniteLegale: string (nullable = true)\n",
      " |-- trancheEffectifsUniteLegale: string (nullable = true)\n",
      " |-- anneeEffectifsUniteLegale: string (nullable = true)\n",
      " |-- dateDernierTraitementUniteLegale: string (nullable = true)\n",
      " |-- nombrePeriodesUniteLegale: string (nullable = true)\n",
      " |-- categorieEntreprise: string (nullable = true)\n",
      " |-- anneeCategorieEntreprise: string (nullable = true)\n",
      " |-- dateDebut: string (nullable = true)\n",
      " |-- etatAdministratifUniteLegale: string (nullable = true)\n",
      " |-- nomUniteLegale: string (nullable = true)\n",
      " |-- nomUsageUniteLegale: string (nullable = true)\n",
      " |-- denominationUniteLegale: string (nullable = true)\n",
      " |-- denominationUsuelle1UniteLegale: string (nullable = true)\n",
      " |-- denominationUsuelle2UniteLegale: string (nullable = true)\n",
      " |-- denominationUsuelle3UniteLegale: string (nullable = true)\n",
      " |-- categorieJuridiqueUniteLegale: string (nullable = true)\n",
      " |-- activitePrincipaleUniteLegale: string (nullable = true)\n",
      " |-- nomenclatureActivitePrincipaleUniteLegale: string (nullable = true)\n",
      " |-- nicSiegeUniteLegale: string (nullable = true)\n",
      " |-- economieSocialeSolidaireUniteLegale: string (nullable = true)\n",
      " |-- caractereEmployeurUniteLegale: string (nullable = true)"
     ]
    }
   ],
   "source": [
    "df.printSchema()"
   ]
  },
  {
   "cell_type": "code",
   "execution_count": 11,
   "metadata": {},
   "outputs": [
    {
     "data": {
      "application/vnd.jupyter.widget-view+json": {
       "model_id": "182a37b89df649e3b1ce628333a2bef4",
       "version_major": 2,
       "version_minor": 0
      },
      "text/plain": [
       "VBox()"
      ]
     },
     "metadata": {},
     "output_type": "display_data"
    },
    {
     "data": {
      "application/vnd.jupyter.widget-view+json": {
       "model_id": "",
       "version_major": 2,
       "version_minor": 0
      },
      "text/plain": [
       "FloatProgress(value=0.0, bar_style='info', description='Progress:', layout=Layout(height='25px', width='50%'),…"
      ]
     },
     "metadata": {},
     "output_type": "display_data"
    }
   ],
   "source": [
    "x = df.groupBy('etatAdministratifUniteLegale').count().orderBy('count')"
   ]
  },
  {
   "cell_type": "code",
   "execution_count": 13,
   "metadata": {},
   "outputs": [
    {
     "data": {
      "application/vnd.jupyter.widget-view+json": {
       "model_id": "764f087d59c9429eb1b48192285dcc0c",
       "version_major": 2,
       "version_minor": 0
      },
      "text/plain": [
       "VBox()"
      ]
     },
     "metadata": {},
     "output_type": "display_data"
    },
    {
     "data": {
      "application/vnd.jupyter.widget-view+json": {
       "model_id": "",
       "version_major": 2,
       "version_minor": 0
      },
      "text/plain": [
       "FloatProgress(value=0.0, bar_style='info', description='Progress:', layout=Layout(height='25px', width='50%'),…"
      ]
     },
     "metadata": {},
     "output_type": "display_data"
    },
    {
     "name": "stdout",
     "output_type": "stream",
     "text": [
      "+----------------------------+--------+\n",
      "|etatAdministratifUniteLegale|   count|\n",
      "+----------------------------+--------+\n",
      "|                           C| 8943058|\n",
      "|                           A|12613863|\n",
      "+----------------------------+--------+"
     ]
    }
   ],
   "source": [
    "x.show(5)"
   ]
  },
  {
   "cell_type": "code",
   "execution_count": null,
   "metadata": {},
   "outputs": [],
   "source": [
    "usecols = ['dateDernierTraitementUniteLegale']"
   ]
  },
  {
   "cell_type": "code",
   "execution_count": null,
   "metadata": {},
   "outputs": [],
   "source": []
  }
 ],
 "metadata": {
  "kernelspec": {
   "display_name": "PySpark",
   "language": "",
   "name": "pysparkkernel"
  },
  "language_info": {
   "codemirror_mode": {
    "name": "python",
    "version": 2
   },
   "mimetype": "text/x-python",
   "name": "pyspark",
   "pygments_lexer": "python2"
  }
 },
 "nbformat": 4,
 "nbformat_minor": 4
}
