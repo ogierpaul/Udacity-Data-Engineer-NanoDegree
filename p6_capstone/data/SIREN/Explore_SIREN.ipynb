{
 "cells": [
  {
   "cell_type": "code",
   "execution_count": 18,
   "metadata": {},
   "outputs": [],
   "source": [
    "import pandas as pd\n",
    "fpath = '/Users/paulogier/79-Data/15-DECP/3-SIREN/StockUniteLegale_utf8.csv'\n",
    "nrows = 100000"
   ]
  },
  {
   "cell_type": "code",
   "execution_count": 19,
   "metadata": {},
   "outputs": [],
   "source": [
    "df = pd.read_csv(fpath, sep=',', encoding='utf-8', nrows=nrows, dtype='str')"
   ]
  },
  {
   "cell_type": "code",
   "execution_count": 20,
   "metadata": {},
   "outputs": [
    {
     "data": {
      "text/plain": [
       "denominationUsuelle3UniteLegale              1.00000\n",
       "denominationUsuelle2UniteLegale              0.99999\n",
       "pseudonymeUniteLegale                        0.99996\n",
       "identifiantAssociationUniteLegale            0.99989\n",
       "prenom4UniteLegale                           0.99911\n",
       "sigleUniteLegale                             0.99600\n",
       "denominationUsuelle1UniteLegale              0.98955\n",
       "prenom3UniteLegale                           0.98671\n",
       "nomUsageUniteLegale                          0.96857\n",
       "economieSocialeSolidaireUniteLegale          0.96502\n",
       "prenom2UniteLegale                           0.95743\n",
       "prenomUsuelUniteLegale                       0.79638\n",
       "prenom1UniteLegale                           0.79638\n",
       "nomUniteLegale                               0.79614\n",
       "sexeUniteLegale                              0.79613\n",
       "unitePurgeeUniteLegale                       0.77175\n",
       "anneeEffectifsUniteLegale                    0.68140\n",
       "anneeCategorieEntreprise                     0.51274\n",
       "categorieEntreprise                          0.51274\n",
       "trancheEffectifsUniteLegale                  0.31383\n",
       "dateDernierTraitementUniteLegale             0.23577\n",
       "denominationUniteLegale                      0.20387\n",
       "dateCreationUniteLegale                      0.09723\n",
       "dateDebut                                    0.01607\n",
       "activitePrincipaleUniteLegale                0.00202\n",
       "nomenclatureActivitePrincipaleUniteLegale    0.00202\n",
       "statutDiffusionUniteLegale                   0.00000\n",
       "caractereEmployeurUniteLegale                0.00000\n",
       "nombrePeriodesUniteLegale                    0.00000\n",
       "etatAdministratifUniteLegale                 0.00000\n",
       "categorieJuridiqueUniteLegale                0.00000\n",
       "nicSiegeUniteLegale                          0.00000\n",
       "siren                                        0.00000\n",
       "dtype: float64"
      ]
     },
     "execution_count": 20,
     "metadata": {},
     "output_type": "execute_result"
    }
   ],
   "source": [
    "df.isnull().mean().sort_values(ascending=False)"
   ]
  },
  {
   "cell_type": "code",
   "execution_count": 23,
   "metadata": {},
   "outputs": [
    {
     "data": {
      "text/plain": [
       "0.74706"
      ]
     },
     "execution_count": 23,
     "metadata": {},
     "output_type": "execute_result"
    }
   ],
   "source": [
    "(df['etatAdministratifUniteLegale']=='A').mean()"
   ]
  },
  {
   "cell_type": "code",
   "execution_count": 25,
   "metadata": {},
   "outputs": [
    {
     "data": {
      "text/plain": [
       "99362    SYND.COPR. DU 24 RUE GRENETA 75002 PARIS\n",
       "38135                  SYND COPROP BILDSTOECKEL B\n",
       "2847                                          NaN\n",
       "13312                  INDIVISION MICHIELS OCTAVE\n",
       "35821                OFFICE TECHNIQUE DU BATIMENT\n",
       "7997               SYND COPRO POINCARE 14 JUILLET\n",
       "81308              COPR 69 AV MARCEAU 75116 PARIS\n",
       "95671                           JACQUELINE DUCERF\n",
       "30645                SYND DE COPROP 5 RUE KENNEDY\n",
       "3056                               SELLIER ET CIE\n",
       "76600    SYND.COPR. DU 1 RUE DE PONTOISE 75005 PA\n",
       "19339                          CTIM ORIENT FRANCE\n",
       "30863         SYNDICAT DES COPROPRIETAIRE   RESID\n",
       "23853                                         NaN\n",
       "46912                         S C IMM JEAN PIGEON\n",
       "85123    SYND.COPR. 2 RUE STE OPPORTUNE  75001 PA\n",
       "95980                  SYND COPRO 146 R DE VERDUN\n",
       "34275                                         NaN\n",
       "37193                               KIRMANN ROGER\n",
       "60465     SYND.COPR. DU 38 40 RUE DES CORDELIERES\n",
       "Name: denominationUniteLegale, dtype: object"
      ]
     },
     "execution_count": 25,
     "metadata": {},
     "output_type": "execute_result"
    }
   ],
   "source": [
    "df['denominationUniteLegale'].sample(20)"
   ]
  },
  {
   "cell_type": "code",
   "execution_count": null,
   "metadata": {},
   "outputs": [],
   "source": []
  },
  {
   "cell_type": "code",
   "execution_count": 11,
   "metadata": {},
   "outputs": [],
   "source": [
    "usecols = [\n",
    "    'siren',\n",
    "    'siret',\n",
    "    'etatAdministratifEtablissement',\n",
    "    'enseigne1Etablissement',\n",
    "    'denominationUsuelleEtablissement'\n",
    "]"
   ]
  },
  {
   "cell_type": "code",
   "execution_count": null,
   "metadata": {},
   "outputs": [],
   "source": []
  }
 ],
 "metadata": {
  "kernelspec": {
   "display_name": "Python 3",
   "language": "python",
   "name": "python3"
  },
  "language_info": {
   "codemirror_mode": {
    "name": "ipython",
    "version": 3
   },
   "file_extension": ".py",
   "mimetype": "text/x-python",
   "name": "python",
   "nbconvert_exporter": "python",
   "pygments_lexer": "ipython3",
   "version": "3.8.3"
  }
 },
 "nbformat": 4,
 "nbformat_minor": 4
}
