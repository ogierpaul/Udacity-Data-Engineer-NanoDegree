{
 "cells": [
  {
   "cell_type": "markdown",
   "metadata": {},
   "source": [
    "# Explore DECP dataset"
   ]
  },
  {
   "cell_type": "markdown",
   "metadata": {},
   "source": [
    "# Opening JSON file"
   ]
  },
  {
   "cell_type": "code",
   "execution_count": 1,
   "metadata": {},
   "outputs": [
    {
     "name": "stdout",
     "output_type": "stream",
     "text": [
      "decp.json\n"
     ]
    }
   ],
   "source": [
    "fpath='decp.json.zip'\n",
    "import zipfile\n",
    "import json\n",
    "with zipfile.ZipFile(fpath, \"r\") as z:\n",
    "    for filename in z.namelist()[:1]:  \n",
    "        print(filename)\n",
    "        with z.open(filename) as f:  \n",
    "            data = f.read()  \n",
    "            d = json.loads(data.decode(\"utf-8\"))"
   ]
  },
  {
   "cell_type": "code",
   "execution_count": 2,
   "metadata": {},
   "outputs": [
    {
     "name": "stdout",
     "output_type": "stream",
     "text": [
      "1st level Json keys:\n",
      "['marches']\n",
      "number of lines:188467\n"
     ]
    }
   ],
   "source": [
    "print(f\"1st level Json keys:\\n{list(d.keys())}\")\n",
    "data = d['marches']\n",
    "print(f\"number of lines:{len(d['marches'])}\")"
   ]
  },
  {
   "cell_type": "markdown",
   "metadata": {},
   "source": [
    "## Sample line"
   ]
  },
  {
   "cell_type": "code",
   "execution_count": 3,
   "metadata": {},
   "outputs": [
    {
     "name": "stdout",
     "output_type": "stream",
     "text": [
      "Line-level keys:\n",
      "['id', 'source', 'uid', 'acheteur', '_type', 'nature', 'objet', 'codeCPV', 'procedure', 'lieuExecution', 'dureeMois', 'dateNotification', 'datePublicationDonnees', 'montant', 'formePrix', 'titulaires', 'modifications']\n"
     ]
    }
   ],
   "source": [
    "import random\n",
    "sample = data[random.randint(0, len(data))]\n",
    "print(f\"Line-level keys:\\n{list(sample.keys())}\")"
   ]
  },
  {
   "cell_type": "markdown",
   "metadata": {},
   "source": [
    "# Open in a Pandas dataframe"
   ]
  },
  {
   "cell_type": "code",
   "execution_count": 4,
   "metadata": {},
   "outputs": [
    {
     "data": {
      "text/html": [
       "<div>\n",
       "<style scoped>\n",
       "    .dataframe tbody tr th:only-of-type {\n",
       "        vertical-align: middle;\n",
       "    }\n",
       "\n",
       "    .dataframe tbody tr th {\n",
       "        vertical-align: top;\n",
       "    }\n",
       "\n",
       "    .dataframe thead th {\n",
       "        text-align: right;\n",
       "    }\n",
       "</style>\n",
       "<table border=\"1\" class=\"dataframe\">\n",
       "  <thead>\n",
       "    <tr style=\"text-align: right;\">\n",
       "      <th></th>\n",
       "      <th>id</th>\n",
       "      <th>source</th>\n",
       "      <th>uid</th>\n",
       "      <th>_type</th>\n",
       "      <th>objet</th>\n",
       "      <th>codeCPV</th>\n",
       "      <th>lieuExecution</th>\n",
       "      <th>dureeMois</th>\n",
       "      <th>dateNotification</th>\n",
       "      <th>datePublicationDonnees</th>\n",
       "      <th>...</th>\n",
       "      <th>nature</th>\n",
       "      <th>procedure</th>\n",
       "      <th>dateSignature</th>\n",
       "      <th>dateDebutExecution</th>\n",
       "      <th>valeurGlobale</th>\n",
       "      <th>montantSubventionPublique</th>\n",
       "      <th>donneesExecution</th>\n",
       "      <th>concessionnaires</th>\n",
       "      <th>acheteur</th>\n",
       "      <th>uuid</th>\n",
       "    </tr>\n",
       "  </thead>\n",
       "  <tbody>\n",
       "    <tr>\n",
       "      <th>28240</th>\n",
       "      <td>20202020S0649000</td>\n",
       "      <td>data.gouv.fr_aife</td>\n",
       "      <td>1800890130799420202020S0649000</td>\n",
       "      <td>Marché</td>\n",
       "      <td>Le Centre National de la Recherche Scientifiqu...</td>\n",
       "      <td>72500000</td>\n",
       "      <td>{'code': '31', 'typeCode': 'Code département',...</td>\n",
       "      <td>5</td>\n",
       "      <td>2020-05-13</td>\n",
       "      <td>2020-05-13</td>\n",
       "      <td>...</td>\n",
       "      <td>Marché subséquent</td>\n",
       "      <td>NaN</td>\n",
       "      <td>NaN</td>\n",
       "      <td>NaN</td>\n",
       "      <td>NaN</td>\n",
       "      <td>NaN</td>\n",
       "      <td>NaN</td>\n",
       "      <td>NaN</td>\n",
       "      <td>{'id': '18008901307994', 'nom': 'Etablissement...</td>\n",
       "      <td>NaN</td>\n",
       "    </tr>\n",
       "    <tr>\n",
       "      <th>128016</th>\n",
       "      <td>201939RL1900</td>\n",
       "      <td>marches-publics.info</td>\n",
       "      <td>24830054300217201939RL1900</td>\n",
       "      <td>Marché</td>\n",
       "      <td>19FOUR04 - Location de deux tracteurs agricole...</td>\n",
       "      <td>16700000</td>\n",
       "      <td>{'code': '83140', 'typeCode': 'Code postal', '...</td>\n",
       "      <td>48</td>\n",
       "      <td>2019-07-08</td>\n",
       "      <td>2019-07-30</td>\n",
       "      <td>...</td>\n",
       "      <td>Accord-cadre</td>\n",
       "      <td>Appel d'offres ouvert</td>\n",
       "      <td>NaN</td>\n",
       "      <td>NaN</td>\n",
       "      <td>NaN</td>\n",
       "      <td>NaN</td>\n",
       "      <td>[]</td>\n",
       "      <td>NaN</td>\n",
       "      <td>{'id': '24830054300217', 'nom': 'METROPOLE TOU...</td>\n",
       "      <td>94829D2DA2A47C5D9EA0686D3093546A</td>\n",
       "    </tr>\n",
       "    <tr>\n",
       "      <th>48522</th>\n",
       "      <td>2019193200</td>\n",
       "      <td>data.gouv.fr_pes</td>\n",
       "      <td>200066793000152019193200</td>\n",
       "      <td>Marché</td>\n",
       "      <td>MODERNISATION DE 2 ASCENSEURS EN FONCTIONNEMEN...</td>\n",
       "      <td>45313000-4</td>\n",
       "      <td>{'code': '74007', 'typeCode': 'Code postal', '...</td>\n",
       "      <td>2</td>\n",
       "      <td>2019-07-23+02:00</td>\n",
       "      <td>2019-05-23+02:00</td>\n",
       "      <td>...</td>\n",
       "      <td>Marché</td>\n",
       "      <td>Procédure adaptée</td>\n",
       "      <td>NaN</td>\n",
       "      <td>NaN</td>\n",
       "      <td>NaN</td>\n",
       "      <td>NaN</td>\n",
       "      <td>NaN</td>\n",
       "      <td>NaN</td>\n",
       "      <td>{'id': '20006679300015', 'nom': 'GRAND ANNECY'}</td>\n",
       "      <td>NaN</td>\n",
       "    </tr>\n",
       "    <tr>\n",
       "      <th>87581</th>\n",
       "      <td>2019030400</td>\n",
       "      <td>marches-publics.info</td>\n",
       "      <td>217602127000112019030400</td>\n",
       "      <td>Marché</td>\n",
       "      <td>travaux de réhabilitation de l'école élémentai...</td>\n",
       "      <td>45300000</td>\n",
       "      <td>{'code': '76160', 'typeCode': 'Code postal', '...</td>\n",
       "      <td>2</td>\n",
       "      <td>2019-07-10</td>\n",
       "      <td>2019-10-10</td>\n",
       "      <td>...</td>\n",
       "      <td>Marché</td>\n",
       "      <td>Procédure adaptée</td>\n",
       "      <td>NaN</td>\n",
       "      <td>NaN</td>\n",
       "      <td>NaN</td>\n",
       "      <td>NaN</td>\n",
       "      <td>[]</td>\n",
       "      <td>NaN</td>\n",
       "      <td>{'id': '21760212700011', 'nom': 'Mairie de Dar...</td>\n",
       "      <td>7EE9FE33E926CB552E1802AC1DC30F15</td>\n",
       "    </tr>\n",
       "    <tr>\n",
       "      <th>108817</th>\n",
       "      <td>20202020500</td>\n",
       "      <td>marches-publics.info</td>\n",
       "      <td>2237000140001020202020500</td>\n",
       "      <td>Marché</td>\n",
       "      <td>FOURNITURE DE PAPIERS, ENVELOPPES ET POCHETTES...</td>\n",
       "      <td>30199720</td>\n",
       "      <td>{'code': '37', 'typeCode': 'Code département',...</td>\n",
       "      <td>48</td>\n",
       "      <td>2020-01-24</td>\n",
       "      <td>2020-02-13</td>\n",
       "      <td>...</td>\n",
       "      <td>Accord-cadre</td>\n",
       "      <td>Appel d'offres ouvert</td>\n",
       "      <td>NaN</td>\n",
       "      <td>NaN</td>\n",
       "      <td>NaN</td>\n",
       "      <td>NaN</td>\n",
       "      <td>[]</td>\n",
       "      <td>NaN</td>\n",
       "      <td>{'id': '22370001400010', 'nom': 'Conseil dépar...</td>\n",
       "      <td>68338242F54C8DDBDB17727F8E1B4606</td>\n",
       "    </tr>\n",
       "  </tbody>\n",
       "</table>\n",
       "<p>5 rows × 25 columns</p>\n",
       "</div>"
      ],
      "text/plain": [
       "                      id                source  \\\n",
       "28240   20202020S0649000     data.gouv.fr_aife   \n",
       "128016      201939RL1900  marches-publics.info   \n",
       "48522         2019193200      data.gouv.fr_pes   \n",
       "87581         2019030400  marches-publics.info   \n",
       "108817       20202020500  marches-publics.info   \n",
       "\n",
       "                                   uid   _type  \\\n",
       "28240   1800890130799420202020S0649000  Marché   \n",
       "128016      24830054300217201939RL1900  Marché   \n",
       "48522         200066793000152019193200  Marché   \n",
       "87581         217602127000112019030400  Marché   \n",
       "108817       2237000140001020202020500  Marché   \n",
       "\n",
       "                                                    objet     codeCPV  \\\n",
       "28240   Le Centre National de la Recherche Scientifiqu...    72500000   \n",
       "128016  19FOUR04 - Location de deux tracteurs agricole...    16700000   \n",
       "48522   MODERNISATION DE 2 ASCENSEURS EN FONCTIONNEMEN...  45313000-4   \n",
       "87581   travaux de réhabilitation de l'école élémentai...    45300000   \n",
       "108817  FOURNITURE DE PAPIERS, ENVELOPPES ET POCHETTES...    30199720   \n",
       "\n",
       "                                            lieuExecution  dureeMois  \\\n",
       "28240   {'code': '31', 'typeCode': 'Code département',...          5   \n",
       "128016  {'code': '83140', 'typeCode': 'Code postal', '...         48   \n",
       "48522   {'code': '74007', 'typeCode': 'Code postal', '...          2   \n",
       "87581   {'code': '76160', 'typeCode': 'Code postal', '...          2   \n",
       "108817  {'code': '37', 'typeCode': 'Code département',...         48   \n",
       "\n",
       "        dateNotification datePublicationDonnees  ...             nature  \\\n",
       "28240         2020-05-13             2020-05-13  ...  Marché subséquent   \n",
       "128016        2019-07-08             2019-07-30  ...       Accord-cadre   \n",
       "48522   2019-07-23+02:00       2019-05-23+02:00  ...             Marché   \n",
       "87581         2019-07-10             2019-10-10  ...             Marché   \n",
       "108817        2020-01-24             2020-02-13  ...       Accord-cadre   \n",
       "\n",
       "                    procedure dateSignature dateDebutExecution valeurGlobale  \\\n",
       "28240                     NaN           NaN                NaN           NaN   \n",
       "128016  Appel d'offres ouvert           NaN                NaN           NaN   \n",
       "48522       Procédure adaptée           NaN                NaN           NaN   \n",
       "87581       Procédure adaptée           NaN                NaN           NaN   \n",
       "108817  Appel d'offres ouvert           NaN                NaN           NaN   \n",
       "\n",
       "       montantSubventionPublique donneesExecution concessionnaires  \\\n",
       "28240                        NaN              NaN              NaN   \n",
       "128016                       NaN               []              NaN   \n",
       "48522                        NaN              NaN              NaN   \n",
       "87581                        NaN               []              NaN   \n",
       "108817                       NaN               []              NaN   \n",
       "\n",
       "                                                 acheteur  \\\n",
       "28240   {'id': '18008901307994', 'nom': 'Etablissement...   \n",
       "128016  {'id': '24830054300217', 'nom': 'METROPOLE TOU...   \n",
       "48522     {'id': '20006679300015', 'nom': 'GRAND ANNECY'}   \n",
       "87581   {'id': '21760212700011', 'nom': 'Mairie de Dar...   \n",
       "108817  {'id': '22370001400010', 'nom': 'Conseil dépar...   \n",
       "\n",
       "                                    uuid  \n",
       "28240                                NaN  \n",
       "128016  94829D2DA2A47C5D9EA0686D3093546A  \n",
       "48522                                NaN  \n",
       "87581   7EE9FE33E926CB552E1802AC1DC30F15  \n",
       "108817  68338242F54C8DDBDB17727F8E1B4606  \n",
       "\n",
       "[5 rows x 25 columns]"
      ]
     },
     "execution_count": 4,
     "metadata": {},
     "output_type": "execute_result"
    }
   ],
   "source": [
    "import pandas as pd\n",
    "df = pd.DataFrame.from_dict(d[\"marches\"])\n",
    "df.sample(5)"
   ]
  },
  {
   "cell_type": "markdown",
   "metadata": {},
   "source": [
    "## Direct attributes"
   ]
  },
  {
   "cell_type": "markdown",
   "metadata": {},
   "source": [
    "### Primary Key"
   ]
  },
  {
   "cell_type": "markdown",
   "metadata": {},
   "source": [
    "#### Id is not unique"
   ]
  },
  {
   "cell_type": "code",
   "execution_count": 5,
   "metadata": {},
   "outputs": [
    {
     "name": "stdout",
     "output_type": "stream",
     "text": [
      "pct of unique values 0.8870253147765922\n"
     ]
    },
    {
     "data": {
      "text/plain": [
       "20190000100    171\n",
       "20190100       156\n",
       "20190000200    108\n",
       "20190000300    107\n",
       "20190200       105\n",
       "Name: id, dtype: int64"
      ]
     },
     "execution_count": 5,
     "metadata": {},
     "output_type": "execute_result"
    }
   ],
   "source": [
    "print(f\"pct of unique values {df['id'].nunique()/df.shape[0]}\")\n",
    "df['id'].value_counts().head()"
   ]
  },
  {
   "cell_type": "markdown",
   "metadata": {},
   "source": [
    "#### Uid is unique"
   ]
  },
  {
   "cell_type": "code",
   "execution_count": 6,
   "metadata": {},
   "outputs": [
    {
     "name": "stdout",
     "output_type": "stream",
     "text": [
      "pct of unique values 1.0\n"
     ]
    },
    {
     "data": {
      "text/plain": [
       "20007040700016201900141400        1\n",
       "21690264300016202020BTA040400     1\n",
       "265300855001282019M07500          1\n",
       "219300779002002019JEWmnc-oOw00    1\n",
       "200043602000162019S040LAVB200     1\n",
       "Name: uid, dtype: int64"
      ]
     },
     "execution_count": 6,
     "metadata": {},
     "output_type": "execute_result"
    }
   ],
   "source": [
    "print(f\"pct of unique values {df['uid'].nunique()/df.shape[0]}\")\n",
    "df['uid'].value_counts().head()"
   ]
  },
  {
   "cell_type": "code",
   "execution_count": 7,
   "metadata": {},
   "outputs": [],
   "source": [
    "df.set_index('uid', drop=True, inplace=True)"
   ]
  },
  {
   "cell_type": "markdown",
   "metadata": {},
   "source": [
    "### Meta attributes"
   ]
  },
  {
   "cell_type": "code",
   "execution_count": 8,
   "metadata": {},
   "outputs": [
    {
     "data": {
      "text/plain": [
       "concessionnaires             0.999220\n",
       "montantSubventionPublique    0.999220\n",
       "valeurGlobale                0.999220\n",
       "dateDebutExecution           0.999220\n",
       "dateSignature                0.999220\n",
       "autoriteConcedante           0.999220\n",
       "uuid                         0.773557\n",
       "donneesExecution             0.773223\n",
       "procedure                    0.048645\n",
       "formePrix                    0.014507\n",
       "dateNotification             0.013169\n",
       "nature                       0.007381\n",
       "codeCPV                      0.002568\n",
       "titulaires                   0.002011\n",
       "acheteur                     0.001104\n",
       "montant                      0.000780\n",
       "objet                        0.000292\n",
       "id                           0.000096\n",
       "lieuExecution                0.000011\n",
       "datePublicationDonnees       0.000000\n",
       "dureeMois                    0.000000\n",
       "modifications                0.000000\n",
       "_type                        0.000000\n",
       "source                       0.000000\n",
       "dtype: float64"
      ]
     },
     "execution_count": 8,
     "metadata": {},
     "output_type": "execute_result"
    }
   ],
   "source": [
    "df.isnull().mean(axis=0).sort_values(ascending=False)"
   ]
  },
  {
   "cell_type": "code",
   "execution_count": 9,
   "metadata": {},
   "outputs": [
    {
     "data": {
      "text/html": [
       "<div>\n",
       "<style scoped>\n",
       "    .dataframe tbody tr th:only-of-type {\n",
       "        vertical-align: middle;\n",
       "    }\n",
       "\n",
       "    .dataframe tbody tr th {\n",
       "        vertical-align: top;\n",
       "    }\n",
       "\n",
       "    .dataframe thead th {\n",
       "        text-align: right;\n",
       "    }\n",
       "</style>\n",
       "<table border=\"1\" class=\"dataframe\">\n",
       "  <thead>\n",
       "    <tr style=\"text-align: right;\">\n",
       "      <th></th>\n",
       "      <th>id</th>\n",
       "      <th>_type</th>\n",
       "      <th>nature</th>\n",
       "      <th>procedure</th>\n",
       "      <th>objet</th>\n",
       "      <th>codeCPV</th>\n",
       "      <th>dureeMois</th>\n",
       "      <th>dateNotification</th>\n",
       "      <th>datePublicationDonnees</th>\n",
       "      <th>montant</th>\n",
       "      <th>formePrix</th>\n",
       "    </tr>\n",
       "    <tr>\n",
       "      <th>uid</th>\n",
       "      <th></th>\n",
       "      <th></th>\n",
       "      <th></th>\n",
       "      <th></th>\n",
       "      <th></th>\n",
       "      <th></th>\n",
       "      <th></th>\n",
       "      <th></th>\n",
       "      <th></th>\n",
       "      <th></th>\n",
       "      <th></th>\n",
       "    </tr>\n",
       "  </thead>\n",
       "  <tbody>\n",
       "    <tr>\n",
       "      <th>2000547810002220206000000022</th>\n",
       "      <td>20206000000022</td>\n",
       "      <td>Marché</td>\n",
       "      <td>Marché</td>\n",
       "      <td>NaN</td>\n",
       "      <td>MGP - CONTRAT DE CONCESSION DU CAO DE LA PLAIN...</td>\n",
       "      <td>45212212</td>\n",
       "      <td>126</td>\n",
       "      <td>2020-07-31</td>\n",
       "      <td>2020-09-04</td>\n",
       "      <td>181136721.0</td>\n",
       "      <td>Révisable</td>\n",
       "    </tr>\n",
       "    <tr>\n",
       "      <th>409898715000192020091610060800</th>\n",
       "      <td>2020091610060800</td>\n",
       "      <td>Marché</td>\n",
       "      <td>Marché</td>\n",
       "      <td>Procédure adaptée</td>\n",
       "      <td>L'HORME \"Ferrouillat\" - Construction de 10 log...</td>\n",
       "      <td>45210000</td>\n",
       "      <td>15</td>\n",
       "      <td>2020-01-23</td>\n",
       "      <td>2020-02-17</td>\n",
       "      <td>82000.0</td>\n",
       "      <td>Ferme et actualisable</td>\n",
       "    </tr>\n",
       "    <tr>\n",
       "      <th>2638003020001420202020F0865600</th>\n",
       "      <td>20202020F0865600</td>\n",
       "      <td>Marché</td>\n",
       "      <td>Accord-cadre</td>\n",
       "      <td>Appel d'offres ouvert</td>\n",
       "      <td>LOCATIONS SANS CHAUFFEUR DE VÉHICULES DE TOURI...</td>\n",
       "      <td>34110000</td>\n",
       "      <td>48</td>\n",
       "      <td>2020-04-30</td>\n",
       "      <td>2020-04-30</td>\n",
       "      <td>195000.0</td>\n",
       "      <td>Révisable</td>\n",
       "    </tr>\n",
       "    <tr>\n",
       "      <th>349958876001882019lhYBzbWcXT00</th>\n",
       "      <td>2019lhYBzbWcXT00</td>\n",
       "      <td>Marché</td>\n",
       "      <td>Accord-cadre</td>\n",
       "      <td>Procédure adaptée</td>\n",
       "      <td>19S0013_DBFC-PAVA 39 - Jura</td>\n",
       "      <td>80530000</td>\n",
       "      <td>48</td>\n",
       "      <td>2020-01-20</td>\n",
       "      <td>2020-03-10</td>\n",
       "      <td>179040.0</td>\n",
       "      <td>Révisable</td>\n",
       "    </tr>\n",
       "    <tr>\n",
       "      <th>200068963000122019HOTELCOM0700</th>\n",
       "      <td>2019HOTELCOM0700</td>\n",
       "      <td>Marché</td>\n",
       "      <td>Marché</td>\n",
       "      <td>Procédure adaptée</td>\n",
       "      <td>Réaménagement d'un bâtiment BBC à JOUÉ L'ABBÉ&lt;...</td>\n",
       "      <td>45450000</td>\n",
       "      <td>4</td>\n",
       "      <td>2019-08-02</td>\n",
       "      <td>2019-09-10</td>\n",
       "      <td>7999.9</td>\n",
       "      <td>Révisable</td>\n",
       "    </tr>\n",
       "    <tr>\n",
       "      <th>176300010000122019130014290500</th>\n",
       "      <td>2019130014290500</td>\n",
       "      <td>Marché</td>\n",
       "      <td>Marché subséquent</td>\n",
       "      <td>Appel d'offres ouvert</td>\n",
       "      <td>Maintenance des portes, portails, rideaux méta...</td>\n",
       "      <td>50000000</td>\n",
       "      <td>48</td>\n",
       "      <td>2019-03-15</td>\n",
       "      <td>2019-03-15</td>\n",
       "      <td>96000.0</td>\n",
       "      <td>Révisable</td>\n",
       "    </tr>\n",
       "    <tr>\n",
       "      <th>25940105700015202003PL00</th>\n",
       "      <td>202003PL00</td>\n",
       "      <td>Marché</td>\n",
       "      <td>Marché</td>\n",
       "      <td>Procédure adaptée</td>\n",
       "      <td>Mission d'assistance à maitrise d'ouvrage pour...</td>\n",
       "      <td>71241000-9</td>\n",
       "      <td>1</td>\n",
       "      <td>2020-06-05+02:00</td>\n",
       "      <td>2020-06-30+02:00</td>\n",
       "      <td>69660.0</td>\n",
       "      <td>Ferme</td>\n",
       "    </tr>\n",
       "    <tr>\n",
       "      <th>1800430100148520192019S2397500</th>\n",
       "      <td>20192019S2397500</td>\n",
       "      <td>Marché</td>\n",
       "      <td>Accord-cadre</td>\n",
       "      <td>Procédure adaptée</td>\n",
       "      <td>ACCUEIL DU SEMINAIRE « PDW NSS » ETWINNING A B...</td>\n",
       "      <td>79951000</td>\n",
       "      <td>12</td>\n",
       "      <td>2019-11-28</td>\n",
       "      <td>2019-11-28</td>\n",
       "      <td>62500.0</td>\n",
       "      <td>Ferme</td>\n",
       "    </tr>\n",
       "    <tr>\n",
       "      <th>214201279000122019050100</th>\n",
       "      <td>2019050100</td>\n",
       "      <td>Marché</td>\n",
       "      <td>Marché</td>\n",
       "      <td>Procédure adaptée</td>\n",
       "      <td>MULTI TRANSPORTS SCOLAIRES SUR LA COMMUNE DE M...</td>\n",
       "      <td>60100000</td>\n",
       "      <td>36</td>\n",
       "      <td>2019-10-15</td>\n",
       "      <td>2019-11-06</td>\n",
       "      <td>111000.0</td>\n",
       "      <td>Ferme et actualisable</td>\n",
       "    </tr>\n",
       "    <tr>\n",
       "      <th>2651000570048720192019F2765700</th>\n",
       "      <td>20192019F2765700</td>\n",
       "      <td>Marché</td>\n",
       "      <td>Accord-cadre</td>\n",
       "      <td>Appel d'offres ouvert</td>\n",
       "      <td>Le présent marché public a pour objet la fourn...</td>\n",
       "      <td>33140000</td>\n",
       "      <td>48</td>\n",
       "      <td>2019-11-25</td>\n",
       "      <td>2019-11-25</td>\n",
       "      <td>168000.0</td>\n",
       "      <td>Révisable</td>\n",
       "    </tr>\n",
       "  </tbody>\n",
       "</table>\n",
       "</div>"
      ],
      "text/plain": [
       "                                              id   _type             nature  \\\n",
       "uid                                                                           \n",
       "2000547810002220206000000022      20206000000022  Marché             Marché   \n",
       "409898715000192020091610060800  2020091610060800  Marché             Marché   \n",
       "2638003020001420202020F0865600  20202020F0865600  Marché       Accord-cadre   \n",
       "349958876001882019lhYBzbWcXT00  2019lhYBzbWcXT00  Marché       Accord-cadre   \n",
       "200068963000122019HOTELCOM0700  2019HOTELCOM0700  Marché             Marché   \n",
       "176300010000122019130014290500  2019130014290500  Marché  Marché subséquent   \n",
       "25940105700015202003PL00              202003PL00  Marché             Marché   \n",
       "1800430100148520192019S2397500  20192019S2397500  Marché       Accord-cadre   \n",
       "214201279000122019050100              2019050100  Marché             Marché   \n",
       "2651000570048720192019F2765700  20192019F2765700  Marché       Accord-cadre   \n",
       "\n",
       "                                            procedure  \\\n",
       "uid                                                     \n",
       "2000547810002220206000000022                      NaN   \n",
       "409898715000192020091610060800      Procédure adaptée   \n",
       "2638003020001420202020F0865600  Appel d'offres ouvert   \n",
       "349958876001882019lhYBzbWcXT00      Procédure adaptée   \n",
       "200068963000122019HOTELCOM0700      Procédure adaptée   \n",
       "176300010000122019130014290500  Appel d'offres ouvert   \n",
       "25940105700015202003PL00            Procédure adaptée   \n",
       "1800430100148520192019S2397500      Procédure adaptée   \n",
       "214201279000122019050100            Procédure adaptée   \n",
       "2651000570048720192019F2765700  Appel d'offres ouvert   \n",
       "\n",
       "                                                                            objet  \\\n",
       "uid                                                                                 \n",
       "2000547810002220206000000022    MGP - CONTRAT DE CONCESSION DU CAO DE LA PLAIN...   \n",
       "409898715000192020091610060800  L'HORME \"Ferrouillat\" - Construction de 10 log...   \n",
       "2638003020001420202020F0865600  LOCATIONS SANS CHAUFFEUR DE VÉHICULES DE TOURI...   \n",
       "349958876001882019lhYBzbWcXT00                        19S0013_DBFC-PAVA 39 - Jura   \n",
       "200068963000122019HOTELCOM0700  Réaménagement d'un bâtiment BBC à JOUÉ L'ABBÉ<...   \n",
       "176300010000122019130014290500  Maintenance des portes, portails, rideaux méta...   \n",
       "25940105700015202003PL00        Mission d'assistance à maitrise d'ouvrage pour...   \n",
       "1800430100148520192019S2397500  ACCUEIL DU SEMINAIRE « PDW NSS » ETWINNING A B...   \n",
       "214201279000122019050100        MULTI TRANSPORTS SCOLAIRES SUR LA COMMUNE DE M...   \n",
       "2651000570048720192019F2765700  Le présent marché public a pour objet la fourn...   \n",
       "\n",
       "                                   codeCPV  dureeMois  dateNotification  \\\n",
       "uid                                                                       \n",
       "2000547810002220206000000022      45212212        126        2020-07-31   \n",
       "409898715000192020091610060800    45210000         15        2020-01-23   \n",
       "2638003020001420202020F0865600    34110000         48        2020-04-30   \n",
       "349958876001882019lhYBzbWcXT00    80530000         48        2020-01-20   \n",
       "200068963000122019HOTELCOM0700    45450000          4        2019-08-02   \n",
       "176300010000122019130014290500    50000000         48        2019-03-15   \n",
       "25940105700015202003PL00        71241000-9          1  2020-06-05+02:00   \n",
       "1800430100148520192019S2397500    79951000         12        2019-11-28   \n",
       "214201279000122019050100          60100000         36        2019-10-15   \n",
       "2651000570048720192019F2765700    33140000         48        2019-11-25   \n",
       "\n",
       "                               datePublicationDonnees      montant  \\\n",
       "uid                                                                  \n",
       "2000547810002220206000000022               2020-09-04  181136721.0   \n",
       "409898715000192020091610060800             2020-02-17      82000.0   \n",
       "2638003020001420202020F0865600             2020-04-30     195000.0   \n",
       "349958876001882019lhYBzbWcXT00             2020-03-10     179040.0   \n",
       "200068963000122019HOTELCOM0700             2019-09-10       7999.9   \n",
       "176300010000122019130014290500             2019-03-15      96000.0   \n",
       "25940105700015202003PL00             2020-06-30+02:00      69660.0   \n",
       "1800430100148520192019S2397500             2019-11-28      62500.0   \n",
       "214201279000122019050100                   2019-11-06     111000.0   \n",
       "2651000570048720192019F2765700             2019-11-25     168000.0   \n",
       "\n",
       "                                            formePrix  \n",
       "uid                                                    \n",
       "2000547810002220206000000022                Révisable  \n",
       "409898715000192020091610060800  Ferme et actualisable  \n",
       "2638003020001420202020F0865600              Révisable  \n",
       "349958876001882019lhYBzbWcXT00              Révisable  \n",
       "200068963000122019HOTELCOM0700              Révisable  \n",
       "176300010000122019130014290500              Révisable  \n",
       "25940105700015202003PL00                        Ferme  \n",
       "1800430100148520192019S2397500                  Ferme  \n",
       "214201279000122019050100        Ferme et actualisable  \n",
       "2651000570048720192019F2765700              Révisable  "
      ]
     },
     "execution_count": 9,
     "metadata": {},
     "output_type": "execute_result"
    }
   ],
   "source": [
    "cols = ['id', '_type', 'nature', 'procedure', 'objet', 'codeCPV', 'dureeMois', 'dateNotification', 'datePublicationDonnees', 'montant', 'formePrix']\n",
    "df[cols].sample(10)"
   ]
  },
  {
   "cell_type": "markdown",
   "metadata": {},
   "source": [
    "## Relational attributes"
   ]
  },
  {
   "cell_type": "code",
   "execution_count": 10,
   "metadata": {},
   "outputs": [],
   "source": [
    "import numpy as np"
   ]
  },
  {
   "cell_type": "markdown",
   "metadata": {},
   "source": [
    "### Modifications\n",
    "Since they are very very small i will not take into account"
   ]
  },
  {
   "cell_type": "code",
   "execution_count": 11,
   "metadata": {},
   "outputs": [
    {
     "data": {
      "text/plain": [
       "0.019785957223280467"
      ]
     },
     "execution_count": 11,
     "metadata": {},
     "output_type": "execute_result"
    }
   ],
   "source": [
    "np.mean(df['modifications'].str.len() >0)"
   ]
  },
  {
   "cell_type": "markdown",
   "metadata": {},
   "source": [
    "### Acheteur"
   ]
  },
  {
   "cell_type": "code",
   "execution_count": 12,
   "metadata": {},
   "outputs": [
    {
     "data": {
      "text/plain": [
       "array([nan, nan, {'id': '00000000000000', 'nom': 'Mairie Villepinte'},\n",
       "       ..., {'id': '96250404900041', 'nom': 'SFTRF'},\n",
       "       {'id': '99788830000016', 'nom': 'GIE GANIL'},\n",
       "       {'id': '99864030400015', 'nom': 'SEMADS'}], dtype=object)"
      ]
     },
     "execution_count": 12,
     "metadata": {},
     "output_type": "execute_result"
    }
   ],
   "source": [
    "df['acheteur'].values"
   ]
  },
  {
   "cell_type": "code",
   "execution_count": 13,
   "metadata": {},
   "outputs": [],
   "source": [
    "acheteur_id = df['acheteur'].dropna().str.get('id')\n",
    "acheteur_nom = df['acheteur'].dropna().str.get('nom')"
   ]
  },
  {
   "cell_type": "code",
   "execution_count": 14,
   "metadata": {},
   "outputs": [
    {
     "data": {
      "text/plain": [
       "uid\n",
       "200068658000182019A110200         20006865800018\n",
       "60288033800044201903600           60288033800044\n",
       "1300226920001120202020S0236500    13002269200011\n",
       "Name: acheteur, dtype: object"
      ]
     },
     "execution_count": 14,
     "metadata": {},
     "output_type": "execute_result"
    }
   ],
   "source": [
    "acheteur_id.sample(3)"
   ]
  },
  {
   "cell_type": "code",
   "execution_count": 15,
   "metadata": {},
   "outputs": [
    {
     "data": {
      "text/plain": [
       "uid\n",
       "247400112000632019000000020000    Communauté de Communes du Pays de Cruseilles\n",
       "28620001900045201961147900                               SDIS du Pas-de-Calais\n",
       "26750034600015201904ALIM00         Caisse des Ecoles du quatorze Ardt de Paris\n",
       "Name: acheteur, dtype: object"
      ]
     },
     "execution_count": 15,
     "metadata": {},
     "output_type": "execute_result"
    }
   ],
   "source": [
    "acheteur_nom.sample(3)"
   ]
  },
  {
   "cell_type": "markdown",
   "metadata": {},
   "source": [
    "### Titulaires"
   ]
  },
  {
   "cell_type": "code",
   "execution_count": 16,
   "metadata": {},
   "outputs": [
    {
     "data": {
      "text/plain": [
       "{denominationSociale, typeIdentifiant, id}    206410\n",
       "{denominationSociale, id}                        822\n",
       "{denominationSociale}                             64\n",
       "{denominationSociale, typeIdentifiant}            24\n",
       "Name: titulaires, dtype: int64"
      ]
     },
     "execution_count": 16,
     "metadata": {},
     "output_type": "execute_result"
    }
   ],
   "source": [
    "y = df['titulaires'].dropna().explode()\n",
    "y.apply(lambda r:set(r.keys())).value_counts()"
   ]
  },
  {
   "cell_type": "code",
   "execution_count": 17,
   "metadata": {},
   "outputs": [],
   "source": [
    "titulaire_typeidentifiant = y.str.get('typeIdentifiant').dropna()\n",
    "titulaire_id = y.str.get('id').dropna()\n",
    "titulaire_denominationSociale = y.str.get('denominationSociale').dropna()"
   ]
  },
  {
   "cell_type": "markdown",
   "metadata": {},
   "source": [
    "## Output: Facts and Measures"
   ]
  },
  {
   "cell_type": "markdown",
   "metadata": {},
   "source": [
    "### Durée mois"
   ]
  },
  {
   "cell_type": "code",
   "execution_count": 21,
   "metadata": {},
   "outputs": [
    {
     "data": {
      "text/plain": [
       "uid\n",
       "2263000100001520191833200         12\n",
       "1300228090001120192019T0000300     5\n",
       "552001406001072019ICF0023900      48\n",
       "130015365000132019130014700000    48\n",
       "21690029000018201915400           48\n",
       "Name: dureeMois, dtype: int64"
      ]
     },
     "execution_count": 21,
     "metadata": {},
     "output_type": "execute_result"
    }
   ],
   "source": [
    "df['dureeMois'].astype(int).sample(5)"
   ]
  },
  {
   "cell_type": "code",
   "execution_count": 22,
   "metadata": {},
   "outputs": [
    {
     "data": {
      "text/plain": [
       "uid\n",
       "224700013004242018S10303          543200.0\n",
       "21060029200010201900330300          7790.0\n",
       "200004802000192019LOT2PIDAF00     150008.4\n",
       "2424010240001120190500            100556.0\n",
       "280600511000242019L11100         5500000.0\n",
       "Name: montant, dtype: float64"
      ]
     },
     "execution_count": 22,
     "metadata": {},
     "output_type": "execute_result"
    }
   ],
   "source": [
    "df['montant'].astype(float).sample(5)"
   ]
  },
  {
   "cell_type": "code",
   "execution_count": 27,
   "metadata": {},
   "outputs": [],
   "source": [
    "y=df['acheteur'].str.len()"
   ]
  },
  {
   "cell_type": "code",
   "execution_count": 30,
   "metadata": {},
   "outputs": [
    {
     "data": {
      "text/plain": [
       "2.0    187726\n",
       "1.0       533\n",
       "NaN       208\n",
       "Name: acheteur, dtype: int64"
      ]
     },
     "execution_count": 30,
     "metadata": {},
     "output_type": "execute_result"
    }
   ],
   "source": [
    "y.value_counts(dropna=False)"
   ]
  },
  {
   "cell_type": "code",
   "execution_count": 36,
   "metadata": {},
   "outputs": [
    {
     "data": {
      "text/plain": [
       "Contrat de concession    147\n",
       "Marché                    61\n",
       "Name: _type, dtype: int64"
      ]
     },
     "execution_count": 36,
     "metadata": {},
     "output_type": "execute_result"
    }
   ],
   "source": [
    "df.loc[df['acheteur'].isnull(), '_type'].value_counts()"
   ]
  },
  {
   "cell_type": "code",
   "execution_count": 31,
   "metadata": {},
   "outputs": [
    {
     "data": {
      "text/plain": [
       "uid\n",
       "20182018F0001100   NaN\n",
       "Name: acheteur, dtype: float64"
      ]
     },
     "execution_count": 31,
     "metadata": {},
     "output_type": "execute_result"
    }
   ],
   "source": [
    "y.loc[y.isnull()].sample()"
   ]
  },
  {
   "cell_type": "code",
   "execution_count": 49,
   "metadata": {},
   "outputs": [
    {
     "data": {
      "text/plain": [
       "69.0"
      ]
     },
     "execution_count": 49,
     "metadata": {},
     "output_type": "execute_result"
    }
   ],
   "source": [
    "df['procedure'].str.len().max()"
   ]
  },
  {
   "cell_type": "code",
   "execution_count": 53,
   "metadata": {},
   "outputs": [],
   "source": [
    "x = pd.DataFrame(titulaire_id).reset_index(drop=False)"
   ]
  },
  {
   "cell_type": "code",
   "execution_count": null,
   "metadata": {},
   "outputs": [],
   "source": []
  },
  {
   "cell_type": "code",
   "execution_count": 56,
   "metadata": {},
   "outputs": [],
   "source": [
    "x['uuid']=x['uid']+'_'+x['titulaires']"
   ]
  },
  {
   "cell_type": "code",
   "execution_count": 57,
   "metadata": {},
   "outputs": [
    {
     "data": {
      "text/plain": [
       "283300028000342019HlcSBaMPrM00_51200127200040    3\n",
       "22120001700012157682535880600_50219708000018     3\n",
       "24120018700011157770205643700_30130960500410     3\n",
       "28340049700022159169483007100_30580099701000     3\n",
       "2112020230031620174306040000_32940521100866      3\n",
       "                                                ..\n",
       "2444006440001320190702121605_34369137400015      1\n",
       "211300041000122019FPA119079c00_38429598600028    1\n",
       "1300235830001120202020T1538600_51771701300018    1\n",
       "244500468000402019M19330S03_60372023600174       1\n",
       "200065597000112018-SiJxKE8eT00_33762184100903    1\n",
       "Name: uuid, Length: 207024, dtype: int64"
      ]
     },
     "execution_count": 57,
     "metadata": {},
     "output_type": "execute_result"
    }
   ],
   "source": [
    "x['uuid'].value_counts()"
   ]
  },
  {
   "cell_type": "code",
   "execution_count": 59,
   "metadata": {},
   "outputs": [
    {
     "data": {
      "text/plain": [
       "[{'typeIdentifiant': 'SIRET',\n",
       "  'id': '40035469200024',\n",
       "  'denominationSociale': 'SERBART'},\n",
       " {'typeIdentifiant': 'SIRET',\n",
       "  'id': '43149779100043',\n",
       "  'denominationSociale': 'MICHEAU'},\n",
       " {'typeIdentifiant': 'SIRET',\n",
       "  'id': '39773101900022',\n",
       "  'denominationSociale': 'CONTROLE TECHNIQUE BREDOIS'},\n",
       " {'typeIdentifiant': 'SIRET',\n",
       "  'id': '43468289400028',\n",
       "  'denominationSociale': 'ESPACE CONTROLE'},\n",
       " {'typeIdentifiant': 'SIRET',\n",
       "  'id': '83276916000025',\n",
       "  'denominationSociale': 'AMCD CONTROLE TECHNIQUE'},\n",
       " {'typeIdentifiant': 'SIRET',\n",
       "  'id': '39419847700017',\n",
       "  'denominationSociale': 'PAMPOUILLE ERIC'},\n",
       " {'typeIdentifiant': 'SIRET',\n",
       "  'id': '51200127200040',\n",
       "  'denominationSociale': 'SIRG'},\n",
       " {'typeIdentifiant': 'SIRET',\n",
       "  'id': '39773101900022',\n",
       "  'denominationSociale': 'CONTROLE TECHNIQUE BREDOIS'},\n",
       " {'typeIdentifiant': 'SIRET',\n",
       "  'id': '53346429300034',\n",
       "  'denominationSociale': 'EURL SCT'},\n",
       " {'typeIdentifiant': 'SIRET',\n",
       "  'id': '39927811800050',\n",
       "  'denominationSociale': 'A.B.A.G.'},\n",
       " {'typeIdentifiant': 'SIRET',\n",
       "  'id': '51200127200040',\n",
       "  'denominationSociale': 'SIRG'},\n",
       " {'typeIdentifiant': 'SIRET',\n",
       "  'id': '82856818800019',\n",
       "  'denominationSociale': 'BCT (BREDOIS CONTROLE TECHNIQUE)'},\n",
       " {'typeIdentifiant': 'SIRET',\n",
       "  'id': '78901720900022',\n",
       "  'denominationSociale': 'M.C.T.'},\n",
       " {'typeIdentifiant': 'SIRET',\n",
       "  'id': '51200127200040',\n",
       "  'denominationSociale': 'SIRG'},\n",
       " {'typeIdentifiant': 'SIRET',\n",
       "  'id': '51911091000030',\n",
       "  'denominationSociale': 'AUTO BILAN FRANCE CONTROLE'},\n",
       " {'typeIdentifiant': 'SIRET',\n",
       "  'id': '49344945800014',\n",
       "  'denominationSociale': 'SODEX AUTOCENTRE'},\n",
       " {'typeIdentifiant': 'SIRET',\n",
       "  'id': '43848564100049',\n",
       "  'denominationSociale': 'CONTROLE TECHNIQUE ILLACAIS'},\n",
       " {'typeIdentifiant': 'SIRET',\n",
       "  'id': '49344945800014',\n",
       "  'denominationSociale': 'SODEX AUTOCENTRE'},\n",
       " {'typeIdentifiant': 'SIRET',\n",
       "  'id': '43468289400028',\n",
       "  'denominationSociale': 'ESPACE CONTROLE'},\n",
       " {'typeIdentifiant': 'SIRET',\n",
       "  'id': '43149779100043',\n",
       "  'denominationSociale': 'MICHEAU'},\n",
       " {'typeIdentifiant': 'SIRET',\n",
       "  'id': '38457410900011',\n",
       "  'denominationSociale': 'AUTO BILAN MEDOC YPMD'}]"
      ]
     },
     "execution_count": 59,
     "metadata": {},
     "output_type": "execute_result"
    }
   ],
   "source": [
    "df.loc['283300028000342019HlcSBaMPrM00']['titulaires']"
   ]
  },
  {
   "cell_type": "code",
   "execution_count": null,
   "metadata": {},
   "outputs": [],
   "source": []
  }
 ],
 "metadata": {
  "kernelspec": {
   "display_name": "Python 3",
   "language": "python",
   "name": "python3"
  },
  "language_info": {
   "codemirror_mode": {
    "name": "ipython",
    "version": 3
   },
   "file_extension": ".py",
   "mimetype": "text/x-python",
   "name": "python",
   "nbconvert_exporter": "python",
   "pygments_lexer": "ipython3",
   "version": "3.8.3"
  }
 },
 "nbformat": 4,
 "nbformat_minor": 4
}
