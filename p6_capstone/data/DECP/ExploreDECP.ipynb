{
 "cells": [
  {
   "cell_type": "markdown",
   "metadata": {},
   "source": [
    "# Explore DECP dataset"
   ]
  },
  {
   "cell_type": "code",
   "execution_count": 20,
   "metadata": {},
   "outputs": [],
   "source": [
    "import random\n",
    "import pandas as pd\n",
    "import json"
   ]
  },
  {
   "cell_type": "markdown",
   "metadata": {},
   "source": [
    "# Opening JSON file"
   ]
  },
  {
   "cell_type": "code",
   "execution_count": 28,
   "metadata": {},
   "outputs": [
    {
     "name": "stdout",
     "output_type": "stream",
     "text": [
      "1st level Json keys:\n",
      "['marches']\n",
      "number of lines:188467\n"
     ]
    }
   ],
   "source": [
    "with open(fpath) as json_file: \n",
    "    data = json.load(json_file)\n",
    "print(f\"1st level Json keys:\\n{list(data.keys())}\")\n",
    "data = data['marches']\n",
    "print(f\"number of lines:{len(data)}\")"
   ]
  },
  {
   "cell_type": "markdown",
   "metadata": {},
   "source": [
    "## Sample line"
   ]
  },
  {
   "cell_type": "code",
   "execution_count": 29,
   "metadata": {},
   "outputs": [
    {
     "name": "stdout",
     "output_type": "stream",
     "text": [
      "Line-level keys:\n",
      "['id', 'source', 'uid', 'acheteur', '_type', 'nature', 'objet', 'codeCPV', 'procedure', 'lieuExecution', 'dureeMois', 'dateNotification', 'datePublicationDonnees', 'montant', 'formePrix', 'titulaires', 'modifications']\n"
     ]
    }
   ],
   "source": [
    "sample = data[random.randint(0, len(data))]\n",
    "print(f\"Line-level keys:\\n{list(sample.keys())}\")"
   ]
  },
  {
   "cell_type": "markdown",
   "metadata": {},
   "source": [
    "# Open in a Pandas dataframe"
   ]
  },
  {
   "cell_type": "code",
   "execution_count": 32,
   "metadata": {},
   "outputs": [
    {
     "data": {
      "text/html": [
       "<div>\n",
       "<style scoped>\n",
       "    .dataframe tbody tr th:only-of-type {\n",
       "        vertical-align: middle;\n",
       "    }\n",
       "\n",
       "    .dataframe tbody tr th {\n",
       "        vertical-align: top;\n",
       "    }\n",
       "\n",
       "    .dataframe thead th {\n",
       "        text-align: right;\n",
       "    }\n",
       "</style>\n",
       "<table border=\"1\" class=\"dataframe\">\n",
       "  <thead>\n",
       "    <tr style=\"text-align: right;\">\n",
       "      <th></th>\n",
       "      <th>id</th>\n",
       "      <th>source</th>\n",
       "      <th>uid</th>\n",
       "      <th>_type</th>\n",
       "      <th>objet</th>\n",
       "      <th>codeCPV</th>\n",
       "      <th>lieuExecution</th>\n",
       "      <th>dureeMois</th>\n",
       "      <th>dateNotification</th>\n",
       "      <th>datePublicationDonnees</th>\n",
       "      <th>...</th>\n",
       "      <th>nature</th>\n",
       "      <th>procedure</th>\n",
       "      <th>dateSignature</th>\n",
       "      <th>dateDebutExecution</th>\n",
       "      <th>valeurGlobale</th>\n",
       "      <th>montantSubventionPublique</th>\n",
       "      <th>donneesExecution</th>\n",
       "      <th>concessionnaires</th>\n",
       "      <th>acheteur</th>\n",
       "      <th>uuid</th>\n",
       "    </tr>\n",
       "  </thead>\n",
       "  <tbody>\n",
       "    <tr>\n",
       "      <th>14457</th>\n",
       "      <td>20182018S0139300</td>\n",
       "      <td>data.gouv.fr_aife</td>\n",
       "      <td>1300155060001220182018S0139300</td>\n",
       "      <td>Marché</td>\n",
       "      <td>Accords-cadres portant sur des prestations tra...</td>\n",
       "      <td>55520000</td>\n",
       "      <td>{'code': '54', 'typeCode': 'Code département',...</td>\n",
       "      <td>36</td>\n",
       "      <td>2018-12-19</td>\n",
       "      <td>2018-12-19</td>\n",
       "      <td>...</td>\n",
       "      <td>Accord-cadre</td>\n",
       "      <td>Procédure adaptée</td>\n",
       "      <td>NaN</td>\n",
       "      <td>NaN</td>\n",
       "      <td>NaN</td>\n",
       "      <td>NaN</td>\n",
       "      <td>NaN</td>\n",
       "      <td>NaN</td>\n",
       "      <td>{'id': '13001550600012', 'nom': 'Etablissement...</td>\n",
       "      <td>NaN</td>\n",
       "    </tr>\n",
       "    <tr>\n",
       "      <th>44519</th>\n",
       "      <td>2019uXDONP58TL00</td>\n",
       "      <td>data.gouv.fr_aife</td>\n",
       "      <td>200053767000142019uXDONP58TL00</td>\n",
       "      <td>Marché</td>\n",
       "      <td>DAF_2019_000498-Circuit n° 0135 -Lot 1</td>\n",
       "      <td>60130000</td>\n",
       "      <td>{'code': '73', 'typeCode': 'Code département',...</td>\n",
       "      <td>48</td>\n",
       "      <td>2020-05-12</td>\n",
       "      <td>2020-05-18</td>\n",
       "      <td>...</td>\n",
       "      <td>Accord-cadre</td>\n",
       "      <td>Appel d'offres ouvert</td>\n",
       "      <td>NaN</td>\n",
       "      <td>NaN</td>\n",
       "      <td>NaN</td>\n",
       "      <td>NaN</td>\n",
       "      <td>NaN</td>\n",
       "      <td>NaN</td>\n",
       "      <td>{'id': '20005376700014', 'nom': 'DSIUD - Direc...</td>\n",
       "      <td>NaN</td>\n",
       "    </tr>\n",
       "    <tr>\n",
       "      <th>44329</th>\n",
       "      <td>2019deTLSoY3LM00</td>\n",
       "      <td>data.gouv.fr_aife</td>\n",
       "      <td>200053767000142019deTLSoY3LM00</td>\n",
       "      <td>Marché</td>\n",
       "      <td>DAF_2019_000031-Chauffage ventilation</td>\n",
       "      <td>45331210</td>\n",
       "      <td>{'code': '01', 'typeCode': 'Code département',...</td>\n",
       "      <td>4</td>\n",
       "      <td>2020-03-26</td>\n",
       "      <td>2020-04-29</td>\n",
       "      <td>...</td>\n",
       "      <td>Marché</td>\n",
       "      <td>Procédure adaptée</td>\n",
       "      <td>NaN</td>\n",
       "      <td>NaN</td>\n",
       "      <td>NaN</td>\n",
       "      <td>NaN</td>\n",
       "      <td>NaN</td>\n",
       "      <td>NaN</td>\n",
       "      <td>{'id': '20005376700014', 'nom': 'DEL - Directi...</td>\n",
       "      <td>NaN</td>\n",
       "    </tr>\n",
       "    <tr>\n",
       "      <th>94462</th>\n",
       "      <td>201900300</td>\n",
       "      <td>data.gouv.fr_pes</td>\n",
       "      <td>21890025600015201900300</td>\n",
       "      <td>Marché</td>\n",
       "      <td>LOT3-CHARPENTE METALLIQUE / REHABILITATION PIS...</td>\n",
       "      <td>45223220-1</td>\n",
       "      <td>{'code': '89206', 'typeCode': 'Code postal', '...</td>\n",
       "      <td>13</td>\n",
       "      <td>2019-01-15+01:00</td>\n",
       "      <td>2019-01-11+01:00</td>\n",
       "      <td>...</td>\n",
       "      <td>Marché</td>\n",
       "      <td>Procédure adaptée</td>\n",
       "      <td>NaN</td>\n",
       "      <td>NaN</td>\n",
       "      <td>NaN</td>\n",
       "      <td>NaN</td>\n",
       "      <td>NaN</td>\n",
       "      <td>NaN</td>\n",
       "      <td>{'id': '21890025600015', 'nom': 'COMMUNE AVALL...</td>\n",
       "      <td>NaN</td>\n",
       "    </tr>\n",
       "    <tr>\n",
       "      <th>23848</th>\n",
       "      <td>2019130014828000</td>\n",
       "      <td>data.gouv.fr_aife</td>\n",
       "      <td>176701209000152019130014828000</td>\n",
       "      <td>Marché</td>\n",
       "      <td>Fourniture et livraison de pain frais pour les...</td>\n",
       "      <td>15811100</td>\n",
       "      <td>{'code': '68', 'typeCode': 'Code département',...</td>\n",
       "      <td>48</td>\n",
       "      <td>2019-09-27</td>\n",
       "      <td>2019-09-27</td>\n",
       "      <td>...</td>\n",
       "      <td>Accord-cadre</td>\n",
       "      <td>Appel d'offres ouvert</td>\n",
       "      <td>NaN</td>\n",
       "      <td>NaN</td>\n",
       "      <td>NaN</td>\n",
       "      <td>NaN</td>\n",
       "      <td>NaN</td>\n",
       "      <td>NaN</td>\n",
       "      <td>{'id': '17670120900015', 'nom': 'Ministère de ...</td>\n",
       "      <td>NaN</td>\n",
       "    </tr>\n",
       "  </tbody>\n",
       "</table>\n",
       "<p>5 rows × 25 columns</p>\n",
       "</div>"
      ],
      "text/plain": [
       "                     id             source                             uid  \\\n",
       "14457  20182018S0139300  data.gouv.fr_aife  1300155060001220182018S0139300   \n",
       "44519  2019uXDONP58TL00  data.gouv.fr_aife  200053767000142019uXDONP58TL00   \n",
       "44329  2019deTLSoY3LM00  data.gouv.fr_aife  200053767000142019deTLSoY3LM00   \n",
       "94462         201900300   data.gouv.fr_pes         21890025600015201900300   \n",
       "23848  2019130014828000  data.gouv.fr_aife  176701209000152019130014828000   \n",
       "\n",
       "        _type                                              objet     codeCPV  \\\n",
       "14457  Marché  Accords-cadres portant sur des prestations tra...    55520000   \n",
       "44519  Marché             DAF_2019_000498-Circuit n° 0135 -Lot 1    60130000   \n",
       "44329  Marché              DAF_2019_000031-Chauffage ventilation    45331210   \n",
       "94462  Marché  LOT3-CHARPENTE METALLIQUE / REHABILITATION PIS...  45223220-1   \n",
       "23848  Marché  Fourniture et livraison de pain frais pour les...    15811100   \n",
       "\n",
       "                                           lieuExecution  dureeMois  \\\n",
       "14457  {'code': '54', 'typeCode': 'Code département',...         36   \n",
       "44519  {'code': '73', 'typeCode': 'Code département',...         48   \n",
       "44329  {'code': '01', 'typeCode': 'Code département',...          4   \n",
       "94462  {'code': '89206', 'typeCode': 'Code postal', '...         13   \n",
       "23848  {'code': '68', 'typeCode': 'Code département',...         48   \n",
       "\n",
       "       dateNotification datePublicationDonnees  ...        nature  \\\n",
       "14457        2018-12-19             2018-12-19  ...  Accord-cadre   \n",
       "44519        2020-05-12             2020-05-18  ...  Accord-cadre   \n",
       "44329        2020-03-26             2020-04-29  ...        Marché   \n",
       "94462  2019-01-15+01:00       2019-01-11+01:00  ...        Marché   \n",
       "23848        2019-09-27             2019-09-27  ...  Accord-cadre   \n",
       "\n",
       "                   procedure dateSignature dateDebutExecution valeurGlobale  \\\n",
       "14457      Procédure adaptée           NaN                NaN           NaN   \n",
       "44519  Appel d'offres ouvert           NaN                NaN           NaN   \n",
       "44329      Procédure adaptée           NaN                NaN           NaN   \n",
       "94462      Procédure adaptée           NaN                NaN           NaN   \n",
       "23848  Appel d'offres ouvert           NaN                NaN           NaN   \n",
       "\n",
       "      montantSubventionPublique donneesExecution concessionnaires  \\\n",
       "14457                       NaN              NaN              NaN   \n",
       "44519                       NaN              NaN              NaN   \n",
       "44329                       NaN              NaN              NaN   \n",
       "94462                       NaN              NaN              NaN   \n",
       "23848                       NaN              NaN              NaN   \n",
       "\n",
       "                                                acheteur uuid  \n",
       "14457  {'id': '13001550600012', 'nom': 'Etablissement...  NaN  \n",
       "44519  {'id': '20005376700014', 'nom': 'DSIUD - Direc...  NaN  \n",
       "44329  {'id': '20005376700014', 'nom': 'DEL - Directi...  NaN  \n",
       "94462  {'id': '21890025600015', 'nom': 'COMMUNE AVALL...  NaN  \n",
       "23848  {'id': '17670120900015', 'nom': 'Ministère de ...  NaN  \n",
       "\n",
       "[5 rows x 25 columns]"
      ]
     },
     "execution_count": 32,
     "metadata": {},
     "output_type": "execute_result"
    }
   ],
   "source": [
    "df = pd.DataFrame.from_dict(data)\n",
    "df.sample(5)"
   ]
  },
  {
   "cell_type": "code",
   "execution_count": 34,
   "metadata": {},
   "outputs": [
    {
     "data": {
      "text/plain": [
       "Index(['id', 'source', 'uid', '_type', 'objet', 'codeCPV', 'lieuExecution',\n",
       "       'dureeMois', 'dateNotification', 'datePublicationDonnees', 'montant',\n",
       "       'formePrix', 'titulaires', 'modifications', 'autoriteConcedante',\n",
       "       'nature', 'procedure', 'dateSignature', 'dateDebutExecution',\n",
       "       'valeurGlobale', 'montantSubventionPublique', 'donneesExecution',\n",
       "       'concessionnaires', 'acheteur', 'uuid'],\n",
       "      dtype='object')"
      ]
     },
     "execution_count": 34,
     "metadata": {},
     "output_type": "execute_result"
    }
   ],
   "source": [
    "df.columns"
   ]
  },
  {
   "cell_type": "code",
   "execution_count": 33,
   "metadata": {},
   "outputs": [
    {
     "data": {
      "text/plain": [
       "array(['atexo-maximilien', 'data.gouv.fr_aife', 'marches-publics.info',\n",
       "       'data.gouv.fr_pes', 'ternum-bfc', 'e-marchespublics', 'grandlyon'],\n",
       "      dtype=object)"
      ]
     },
     "execution_count": 33,
     "metadata": {},
     "output_type": "execute_result"
    }
   ],
   "source": [
    "df['source'].unique()"
   ]
  },
  {
   "cell_type": "code",
   "execution_count": null,
   "metadata": {},
   "outputs": [],
   "source": []
  }
 ],
 "metadata": {
  "kernelspec": {
   "display_name": "Python 3",
   "language": "python",
   "name": "python3"
  },
  "language_info": {
   "codemirror_mode": {
    "name": "ipython",
    "version": 3
   },
   "file_extension": ".py",
   "mimetype": "text/x-python",
   "name": "python",
   "nbconvert_exporter": "python",
   "pygments_lexer": "ipython3",
   "version": "3.8.3"
  }
 },
 "nbformat": 4,
 "nbformat_minor": 4
}
