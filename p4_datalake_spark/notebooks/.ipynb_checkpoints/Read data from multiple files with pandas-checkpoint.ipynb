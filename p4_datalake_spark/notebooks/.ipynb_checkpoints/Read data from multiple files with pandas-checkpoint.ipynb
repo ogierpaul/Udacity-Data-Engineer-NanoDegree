{
 "cells": [
  {
   "cell_type": "markdown",
   "metadata": {
    "collapsed": true,
    "pycharm": {
     "name": "#%% md\n"
    }
   },
   "source": [
    "# Imports"
   ]
  },
  {
   "cell_type": "code",
   "execution_count": 2,
   "metadata": {
    "pycharm": {
     "name": "#%%\n"
    }
   },
   "outputs": [],
   "source": [
    "import os\n",
    "import pandas as pd\n",
    "import psycopg2"
   ]
  },
  {
   "cell_type": "markdown",
   "metadata": {},
   "source": [
    "## Read using pandas"
   ]
  },
  {
   "cell_type": "code",
   "execution_count": 46,
   "metadata": {},
   "outputs": [],
   "source": [
    "songfolder = './../data/song_data/'\n",
    "outputfolder = './../stagingarea/'\n",
    "def process_folder(path):\n",
    "    dfs = []\n",
    "    for dirpath, dirs, files in os.walk(path):\n",
    "        for file in files:\n",
    "            if file.endswith(\".json\"):\n",
    "                dfs.append(pd.read_json(os.path.join(os.path.abspath(dirpath), file), lines=True))\n",
    "    df = pd.concat(dfs).reset_index(drop=True)\n",
    "    return df"
   ]
  },
  {
   "cell_type": "code",
   "execution_count": 40,
   "metadata": {},
   "outputs": [],
   "source": [
    "def readsongdata(df):\n",
    "    usecols = [\n",
    "        'artist_id',\n",
    "     'artist_latitude',\n",
    "     'artist_location',\n",
    "     'artist_longitude',\n",
    "    'artist_name',\n",
    "     'duration',\n",
    "     'song_id',\n",
    "     'title', \n",
    "        'year'\n",
    "    ]\n",
    "    df = df[usecols]\n",
    "    return df"
   ]
  },
  {
   "cell_type": "code",
   "execution_count": 4,
   "metadata": {},
   "outputs": [
    {
     "name": "stdout",
     "output_type": "stream",
     "text": [
      "1\n"
     ]
    }
   ],
   "source": [
    "def connecttopostgre():\n",
    "    conn = psycopg2.connect(\"host=pgs dbname=mydb user=myuser password={}\".format(os.environ.get(\"POSTGRES_PASSWORD\")))\n",
    "    conn.autocommit = True\n",
    "    print(conn.status)\n",
    "    return conn\n",
    "conn = connecttopostgre()\n",
    "cur = conn.cursor()"
   ]
  },
  {
   "cell_type": "code",
   "execution_count": 55,
   "metadata": {},
   "outputs": [],
   "source": [
    "songs = process_folder(songfolder)\n",
    "songs = readsongdata(songs)\n",
    "songs.to_csv('raw_songs.csv', index=False, sep='|', encoding='utf-8')"
   ]
  },
  {
   "cell_type": "code",
   "execution_count": 54,
   "metadata": {},
   "outputs": [
    {
     "ename": "UndefinedTable",
     "evalue": "relation \"staging_songs\" does not exist\n",
     "output_type": "error",
     "traceback": [
      "\u001b[0;31m---------------------------------------------------------------------------\u001b[0m",
      "\u001b[0;31mUndefinedTable\u001b[0m                            Traceback (most recent call last)",
      "\u001b[0;32m<ipython-input-54-2f099a2786df>\u001b[0m in \u001b[0;36m<module>\u001b[0;34m\u001b[0m\n\u001b[1;32m      2\u001b[0m \u001b[0mCOPY\u001b[0m \u001b[0mstaging_songs\u001b[0m \u001b[0mFROM\u001b[0m \u001b[0;34m'/stagingarea/raw_songs.csv'\u001b[0m \u001b[0mWITH\u001b[0m \u001b[0mCSV\u001b[0m \u001b[0mHEADER\u001b[0m \u001b[0mDELIMITER\u001b[0m \u001b[0;34m'|'\u001b[0m\u001b[0;34m\u001b[0m\u001b[0;34m\u001b[0m\u001b[0m\n\u001b[1;32m      3\u001b[0m '''\n\u001b[0;32m----> 4\u001b[0;31m \u001b[0mcur\u001b[0m\u001b[0;34m.\u001b[0m\u001b[0mexecute\u001b[0m\u001b[0;34m(\u001b[0m\u001b[0mq_copysongs\u001b[0m\u001b[0;34m)\u001b[0m\u001b[0;34m\u001b[0m\u001b[0;34m\u001b[0m\u001b[0m\n\u001b[0m",
      "\u001b[0;31mUndefinedTable\u001b[0m: relation \"staging_songs\" does not exist\n"
     ]
    }
   ],
   "source": [
    "q_copysongs = '''\n",
    "COPY staging_songs (\n",
    "    artist_id,\n",
    " artist_latitude,\n",
    " artist_location,\n",
    " artist_longitude,\n",
    " artist_name,\n",
    " duration,\n",
    " song_id,\n",
    " title, \n",
    " year)\n",
    "FROM '/home/data/raw_songs.csv'\n",
    "WITH CSV HEADER DELIMITER '|';\n",
    "'''\n",
    "cur.execute(q_copysongs)"
   ]
  },
  {
   "cell_type": "code",
   "execution_count": 18,
   "metadata": {},
   "outputs": [
    {
     "data": {
      "text/plain": [
       "[(0,)]"
      ]
     },
     "execution_count": 18,
     "metadata": {},
     "output_type": "execute_result"
    }
   ],
   "source": [
    "cur.execute('SELECT COUNT(*) FROM staging_songs LIMIT 5;')\n",
    "cur.fetchall()"
   ]
  },
  {
   "cell_type": "code",
   "execution_count": 19,
   "metadata": {},
   "outputs": [
    {
     "data": {
      "text/plain": [
       "[(71,)]"
      ]
     },
     "execution_count": 19,
     "metadata": {},
     "output_type": "execute_result"
    }
   ],
   "source": [
    "cur.execute('SELECT COUNT(*) FROM songs LIMIT 5;')\n",
    "cur.fetchall()"
   ]
  },
  {
   "cell_type": "code",
   "execution_count": 20,
   "metadata": {},
   "outputs": [
    {
     "data": {
      "text/plain": [
       "[(69,)]"
      ]
     },
     "execution_count": 20,
     "metadata": {},
     "output_type": "execute_result"
    }
   ],
   "source": [
    "cur.execute('SELECT COUNT(*) FROM artists LIMIT 5;')\n",
    "cur.fetchall()"
   ]
  },
  {
   "cell_type": "code",
   "execution_count": null,
   "metadata": {},
   "outputs": [],
   "source": []
  }
 ],
 "metadata": {
  "kernelspec": {
   "display_name": "Python 3",
   "language": "python",
   "name": "python3"
  },
  "language_info": {
   "codemirror_mode": {
    "name": "ipython",
    "version": 3
   },
   "file_extension": ".py",
   "mimetype": "text/x-python",
   "name": "python",
   "nbconvert_exporter": "python",
   "pygments_lexer": "ipython3",
   "version": "3.8.6"
  },
  "pycharm": {
   "stem_cell": {
    "cell_type": "raw",
    "metadata": {
     "collapsed": false
    },
    "source": []
   }
  }
 },
 "nbformat": 4,
 "nbformat_minor": 1
}
