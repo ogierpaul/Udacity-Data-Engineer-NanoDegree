{
 "cells": [
  {
   "cell_type": "code",
   "execution_count": 2,
   "metadata": {
    "editable": true
   },
   "outputs": [
    {
     "data": {
      "text/plain": [
       "['dl.cfg']"
      ]
     },
     "execution_count": 2,
     "metadata": {},
     "output_type": "execute_result"
    }
   ],
   "source": [
    "import configparser\n",
    "import reads3\n",
    "import sparkinit\n",
    "import transform\n",
    "\n",
    "# Load config file\n",
    "config = configparser.ConfigParser()\n",
    "config.read('dl.cfg')"
   ]
  },
  {
   "cell_type": "code",
   "execution_count": 3,
   "metadata": {
    "editable": true
   },
   "outputs": [],
   "source": [
    "# Create spark session\n",
    "ss = sparkinit.create_spark_session(config)"
   ]
  },
  {
   "cell_type": "code",
   "execution_count": 4,
   "metadata": {
    "editable": true
   },
   "outputs": [
    {
     "data": {
      "text/plain": [
       "1507"
      ]
     },
     "execution_count": 4,
     "metadata": {},
     "output_type": "execute_result"
    }
   ],
   "source": [
    "# Read log data from s3\n",
    "log_path = \"s3a://udacity-dend/log_data/2018/11/2018-11-0*.json\"\n",
    "staging_events = reads3.read_logs(ss, log_path)\n",
    "staging_events.count()"
   ]
  },
  {
   "cell_type": "code",
   "execution_count": 5,
   "metadata": {
    "editable": true
   },
   "outputs": [
    {
     "data": {
      "text/plain": [
       "604"
      ]
     },
     "execution_count": 5,
     "metadata": {},
     "output_type": "execute_result"
    }
   ],
   "source": [
    "# Read song data from S3\n",
    "song_path = \"s3a://udacity-dend/song_data/A/A/*/*.json\"\n",
    "staging_songs = reads3.read_songs(ss, song_path)\n",
    "staging_songs.count()"
   ]
  },
  {
   "cell_type": "code",
   "execution_count": 6,
   "metadata": {
    "editable": true
   },
   "outputs": [],
   "source": [
    "# Transform the dimension tables\n",
    "songs = transform.select_songs_data(staging_songs)\n",
    "artists = transform.select_artists_data(staging_songs)\n",
    "users = transform.select_users_data(staging_events)\n",
    "time = transform.select_time_data(staging_events)"
   ]
  },
  {
   "cell_type": "code",
   "execution_count": 7,
   "metadata": {
    "editable": true
   },
   "outputs": [],
   "source": [
    "# Create the songplay fact table\n",
    "## Cache the songs and artists table in order not to recalculate it\n",
    "songs = songs.cache()\n",
    "artists = artists.cache()\n",
    "songplay = transform.create_songplay(staging_events, songs, artists)"
   ]
  },
  {
   "cell_type": "code",
   "execution_count": null,
   "metadata": {
    "editable": true
   },
   "outputs": [],
   "source": [
    "# Write the data to S3\n",
    "output_path = \"s3a://dendpaulogieruswest2/p4csv/\"\n",
    "songs.write.partitionBy(\"year\", \"artist_id\").parquet(output_path + 'songs/')\n",
    "artists.write.parquet(output_path + 'artists/')\n",
    "users.write.parquet(output_path + 'users/')\n",
    "time.write.partitionBy(\"year\", \"month\").parquet(output_path + 'time/')\n",
    "songplay.write.partitionBy(\"year\", \"month\").parquet(output_path + 'songplay/')"
   ]
  },
  {
   "cell_type": "code",
   "execution_count": null,
   "metadata": {
    "editable": true
   },
   "outputs": [],
   "source": []
  }
 ],
 "metadata": {
  "kernelspec": {
   "display_name": "Python 3",
   "language": "python",
   "name": "python3"
  },
  "language_info": {
   "codemirror_mode": {
    "name": "ipython",
    "version": 3
   },
   "file_extension": ".py",
   "mimetype": "text/x-python",
   "name": "python",
   "nbconvert_exporter": "python",
   "pygments_lexer": "ipython3",
   "version": "3.6.3"
  }
 },
 "nbformat": 4,
 "nbformat_minor": 4
}
