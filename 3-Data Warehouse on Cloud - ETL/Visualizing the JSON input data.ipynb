{
 "cells": [
  {
   "cell_type": "markdown",
   "metadata": {},
   "source": [
    "# Visualizing the JSON Input Data"
   ]
  },
  {
   "cell_type": "code",
   "execution_count": 1,
   "metadata": {},
   "outputs": [],
   "source": [
    "import pandas as pd\n",
    "import boto3\n",
    "import json\n",
    "import configparser"
   ]
  },
  {
   "cell_type": "code",
   "execution_count": 2,
   "metadata": {},
   "outputs": [],
   "source": [
    "config = configparser.ConfigParser()\n",
    "config.read_file(open('dwh.cfg'))"
   ]
  },
  {
   "cell_type": "markdown",
   "metadata": {},
   "source": [
    "## Create an S3 ressource "
   ]
  },
  {
   "cell_type": "code",
   "execution_count": 3,
   "metadata": {},
   "outputs": [],
   "source": [
    "s3_ressource = boto3.resource('s3',\n",
    "                       region_name='eu-west-3',\n",
    "                       aws_access_key_id=config.get(\"AWS\", \"KEY\"),\n",
    "                       aws_secret_access_key=config.get(\"AWS\", \"SECRET\")\n",
    "                   )\n",
    "s3_client = boto3.client('s3',\n",
    "                       region_name='eu-west-3',\n",
    "                       aws_access_key_id=config.get(\"AWS\", \"KEY\"),\n",
    "                       aws_secret_access_key=config.get(\"AWS\", \"SECRET\")\n",
    "                   )"
   ]
  },
  {
   "cell_type": "markdown",
   "metadata": {},
   "source": [
    "## Check out the sample data sources on S3\n",
    "Sanity check"
   ]
  },
  {
   "cell_type": "code",
   "execution_count": 4,
   "metadata": {},
   "outputs": [
    {
     "name": "stdout",
     "output_type": "stream",
     "text": [
      "s3.ObjectSummary(bucket_name='awssampledbuswest2', key='ssbgz/')\n",
      "s3.ObjectSummary(bucket_name='awssampledbuswest2', key='ssbgz/customer0002_part_00.gz')\n",
      "s3.ObjectSummary(bucket_name='awssampledbuswest2', key='ssbgz/dwdate.tbl.gz')\n"
     ]
    }
   ],
   "source": [
    "sampleDbBucket =  s3_ressource.Bucket(\"awssampledbuswest2\")\n",
    "for obj in list(sampleDbBucket.objects.filter(Prefix=\"ssbgz\"))[:3]:\n",
    "    print(obj)"
   ]
  },
  {
   "cell_type": "markdown",
   "metadata": {},
   "source": [
    "## Check out the S3 bucket for the project"
   ]
  },
  {
   "cell_type": "code",
   "execution_count": 5,
   "metadata": {},
   "outputs": [
    {
     "name": "stdout",
     "output_type": "stream",
     "text": [
      "31\n",
      "s3.ObjectSummary(bucket_name='udacity-dend', key='log_data/')\n",
      "s3.ObjectSummary(bucket_name='udacity-dend', key='log_data/2018/11/2018-11-01-events.json')\n",
      "s3.ObjectSummary(bucket_name='udacity-dend', key='log_data/2018/11/2018-11-02-events.json')\n"
     ]
    }
   ],
   "source": [
    "bucket_name = \"udacity-dend\"\n",
    "dend_bucket =  s3_ressource.Bucket(bucket_name)\n",
    "all_objects = list(dend_bucket.objects.filter(Prefix='log_data/'))\n",
    "print(len(all_objects))\n",
    "for o in all_objects[:3]:\n",
    "    print(o)"
   ]
  },
  {
   "cell_type": "markdown",
   "metadata": {},
   "source": [
    "### Visualize one EVENT JSON file"
   ]
  },
  {
   "cell_type": "markdown",
   "metadata": {},
   "source": [
    "#### First method: reading the file\n",
    "This method will read the object as a string (file_content)"
   ]
  },
  {
   "cell_type": "code",
   "execution_count": 6,
   "metadata": {},
   "outputs": [
    {
     "name": "stdout",
     "output_type": "stream",
     "text": [
      "{\"artist\":null,\"auth\":\"Logged In\",\"firstName\":\"Walter\",\"gender\":\"M\",\"itemInSession\":0,\"lastName\":\"Frye\",\"length\":null,\"level\":\"free\",\"location\":\"San Francisco-Oakland-Hayward, CA\",\"method\":\"GET\",\"page\":\"Home\",\"registration\":1540919166796.0,\"sessionId\":38,\"song\":null,\"status\":200,\"ts\":1541105830796,\"userAgent\":\"\\\"Mozilla\\/5.0 (Macintosh; Intel Mac OS X 10_9_4) AppleWebKit\\/537.36 (KHTML, like Gecko) Chrome\\/36.0.1985.143 Safari\\/537.36\\\"\",\"userId\":\"39\"}\n",
      "{\"artist\":null,\"auth\":\"Logged In\",\"firstName\":\"Kaylee\",\"gender\":\"F\",\"itemInSession\":0,\"lastName\":\"Summers\",\"length\":null,\"level\":\"free\",\"location\":\"Phoenix-Mesa-Scottsdale, AZ\",\"method\":\"GET\",\"page\":\"Home\",\"registration\":1540344794796.0,\"sessionId\":139,\"song\":null,\"status\":200,\"ts\":1541106106796,\"userAgent\":\"\\\"Mozilla\\/5.0 (Windows NT 6.1; WOW64) AppleWebKit\\/537.36 (KHTML, like Gecko) Chrome\\/35.0.1916.153 Safari\\/537.36\\\"\",\"userId\":\"8\"}\n",
      "{\"artist\":\"Des'ree\",\"auth\":\"Logged In\",\"firstName\":\"Kaylee\",\"gender\":\"F\",\"itemInSession\":1,\"lastName\n"
     ]
    }
   ],
   "source": [
    "obj = s3_client.get_object(Key='log_data/2018/11/2018-11-01-events.json', Bucket=bucket_name)\n",
    "file_content = obj['Body'].read().decode('utf-8')\n",
    "print(file_content[:1000])"
   ]
  },
  {
   "cell_type": "markdown",
   "metadata": {},
   "source": [
    "#### Failure:"
   ]
  },
  {
   "cell_type": "markdown",
   "metadata": {},
   "source": [
    "But although the file has a json extension, reading with JSON will fail, because the file is not one JSON object, but rather each line is a JSON object.    \n",
    "The Format is JSONL (JSON Lines).    \n",
    "More explication Here:     \n",
    "http://jsonlines.org/    \n",
    "https://hackernoon.com/json-lines-format-76353b4e588d\n",
    "- Since every entry in JSON Lines is a valid JSON it can be parsed/unmarshaled as a standalone JSON document. For example, you can seek within it, split a 10gb file into smaller files without parsing the entire thing.\n",
    "- No need do read the whole file in memory before parse.\n",
    "- You can easily add further lines to the file by simply appending to the file. If the entire file were a JSON array then you would have to parse it, add the new line, and then convert back to JSON.\n",
    "\n",
    "##### JSON:\n",
    "[{\"artist\":\"foo\"}, {\"artist\":\"bar}]    \n",
    "\n",
    "##### JSONL:\n",
    "{\"artist\": \"foo\"}\\n    \n",
    "{\"artist\": \"bar\"}\\n"
   ]
  },
  {
   "cell_type": "markdown",
   "metadata": {},
   "source": [
    "##### Alternative method to download the file and open it\n",
    "From https://stackoverflow.com/questions/12451431/loading-and-parsing-a-json-file-with-multiple-json-objects     \n",
    "Reading a JSON Lines file can be achieved by:\n",
    "- Installing a package https://pypi.org/project/json-lines/\n",
    "- Or: (see below):"
   ]
  },
  {
   "cell_type": "code",
   "execution_count": 7,
   "metadata": {},
   "outputs": [],
   "source": [
    "filename = 'downloaded_file.json'\n",
    "try:\n",
    "    s3_ressource.Bucket(bucket_name).download_file('log_data/2018/11/2018-11-01-events.json', filename)\n",
    "except botocore.exceptions.ClientError as e:\n",
    "    if e.response['Error']['Code'] == \"404\":\n",
    "        print(\"The object does not exist.\")\n",
    "    else:\n",
    "        raise\n",
    "data = []\n",
    "with open(filename) as f:\n",
    "    for line in f:\n",
    "        data.append(json.loads(line))"
   ]
  },
  {
   "cell_type": "code",
   "execution_count": 8,
   "metadata": {},
   "outputs": [
    {
     "data": {
      "text/plain": [
       "{'artist': 'The Mars Volta',\n",
       " 'auth': 'Logged In',\n",
       " 'firstName': 'Kaylee',\n",
       " 'gender': 'F',\n",
       " 'itemInSession': 5,\n",
       " 'lastName': 'Summers',\n",
       " 'length': 380.42077,\n",
       " 'level': 'free',\n",
       " 'location': 'Phoenix-Mesa-Scottsdale, AZ',\n",
       " 'method': 'PUT',\n",
       " 'page': 'NextSong',\n",
       " 'registration': 1540344794796.0,\n",
       " 'sessionId': 139,\n",
       " 'song': 'Eriatarka',\n",
       " 'status': 200,\n",
       " 'ts': 1541106673796,\n",
       " 'userAgent': '\"Mozilla/5.0 (Windows NT 6.1; WOW64) AppleWebKit/537.36 (KHTML, like Gecko) Chrome/35.0.1916.153 Safari/537.36\"',\n",
       " 'userId': '8'}"
      ]
     },
     "execution_count": 8,
     "metadata": {},
     "output_type": "execute_result"
    }
   ],
   "source": [
    "data[6]"
   ]
  },
  {
   "cell_type": "markdown",
   "metadata": {},
   "source": [
    "## Reading the JSON Path file\n",
    "The JSON Path  is used for selecting and extracting a JSON document’s property values.    \n",
    "It allows to query subsections of a JSON document.    \n",
    "In this case, it is used to help read the JSON and output a constant structure"
   ]
  },
  {
   "cell_type": "code",
   "execution_count": 9,
   "metadata": {},
   "outputs": [
    {
     "name": "stdout",
     "output_type": "stream",
     "text": [
      "{\n",
      "    \"jsonpaths\": [\n",
      "        \"$['artist']\",\n",
      "        \"$['auth']\",\n",
      "        \"$['firstName']\",\n",
      "        \"$['gender']\",\n",
      "        \"$['itemInSession']\",\n",
      "        \"$['lastName']\",\n",
      "        \"$['length']\",\n",
      "        \"$['level']\",\n",
      "        \"$['location']\",\n",
      "        \"$['method']\",\n",
      "        \"$['page']\",\n",
      "        \"$['registration']\",\n",
      "        \"$['sessionId']\",\n",
      "        \"$['song']\",\n",
      "        \"$['status']\",\n",
      "        \"$['ts']\",\n",
      "        \"$['userAgent']\",\n",
      "        \"$['userId']\"\n",
      "    ]\n",
      "}\n"
     ]
    }
   ],
   "source": [
    "obj = s3_client.get_object(Key='log_json_path.json', Bucket=bucket_name)\n",
    "file_content = obj['Body'].read().decode('utf-8')\n",
    "print(file_content)"
   ]
  },
  {
   "cell_type": "markdown",
   "metadata": {},
   "source": [
    "### Reading the song json file"
   ]
  },
  {
   "cell_type": "code",
   "execution_count": 16,
   "metadata": {},
   "outputs": [
    {
     "name": "stdout",
     "output_type": "stream",
     "text": [
      "604\n",
      "s3.ObjectSummary(bucket_name='udacity-dend', key='song_data/A/A/A/TRAAAAK128F9318786.json')\n",
      "s3.ObjectSummary(bucket_name='udacity-dend', key='song_data/A/A/A/TRAAAAV128F421A322.json')\n",
      "s3.ObjectSummary(bucket_name='udacity-dend', key='song_data/A/A/A/TRAAABD128F429CF47.json')\n"
     ]
    }
   ],
   "source": [
    "bucket_name = \"udacity-dend\"\n",
    "dend_bucket =  s3_ressource.Bucket(bucket_name)\n",
    "all_objects = list(dend_bucket.objects.filter(Prefix='song_data/A/A'))\n",
    "print(len(all_objects))\n",
    "for o in all_objects[:3]:\n",
    "    print(o)"
   ]
  },
  {
   "cell_type": "code",
   "execution_count": 11,
   "metadata": {},
   "outputs": [
    {
     "name": "stdout",
     "output_type": "stream",
     "text": [
      "{\"artist_id\":\"ARJNIUY12298900C91\",\"artist_latitude\":null,\"artist_location\":\"\",\"artist_longitude\":null,\"artist_name\":\"Adelitas Way\",\"duration\":213.9424,\"num_songs\":1,\"song_id\":\"SOBLFFE12AF72AA5BA\",\"title\":\"Scream\",\"year\":2009}\n"
     ]
    }
   ],
   "source": [
    "obj = s3_client.get_object(Key='song_data/A/A/A/TRAAAAK128F9318786.json', Bucket=bucket_name)\n",
    "file_content = obj['Body'].read().decode('utf-8')\n",
    "print(file_content)"
   ]
  },
  {
   "cell_type": "code",
   "execution_count": 12,
   "metadata": {},
   "outputs": [
    {
     "data": {
      "text/plain": [
       "[s3.ObjectSummary(bucket_name='udacity-dend', key='song_data/'),\n",
       " s3.ObjectSummary(bucket_name='udacity-dend', key='song_data/A/A/A/TRAAAAK128F9318786.json'),\n",
       " s3.ObjectSummary(bucket_name='udacity-dend', key='song_data/A/A/A/TRAAAAV128F421A322.json'),\n",
       " s3.ObjectSummary(bucket_name='udacity-dend', key='song_data/A/A/A/TRAAABD128F429CF47.json'),\n",
       " s3.ObjectSummary(bucket_name='udacity-dend', key='song_data/A/A/A/TRAAACN128F9355673.json'),\n",
       " s3.ObjectSummary(bucket_name='udacity-dend', key='song_data/A/A/A/TRAAAEA128F935A30D.json'),\n",
       " s3.ObjectSummary(bucket_name='udacity-dend', key='song_data/A/A/A/TRAAAED128E0783FAB.json'),\n",
       " s3.ObjectSummary(bucket_name='udacity-dend', key='song_data/A/A/A/TRAAAEM128F93347B9.json'),\n",
       " s3.ObjectSummary(bucket_name='udacity-dend', key='song_data/A/A/A/TRAAAEW128F42930C0.json'),\n",
       " s3.ObjectSummary(bucket_name='udacity-dend', key='song_data/A/A/A/TRAAAFD128F92F423A.json')]"
      ]
     },
     "execution_count": 12,
     "metadata": {},
     "output_type": "execute_result"
    }
   ],
   "source": [
    "all_objects[:10]"
   ]
  },
  {
   "cell_type": "code",
   "execution_count": null,
   "metadata": {},
   "outputs": [],
   "source": []
  }
 ],
 "metadata": {
  "kernelspec": {
   "display_name": "Python 3",
   "language": "python",
   "name": "python3"
  },
  "language_info": {
   "codemirror_mode": {
    "name": "ipython",
    "version": 3
   },
   "file_extension": ".py",
   "mimetype": "text/x-python",
   "name": "python",
   "nbconvert_exporter": "python",
   "pygments_lexer": "ipython3",
   "version": "3.7.3"
  }
 },
 "nbformat": 4,
 "nbformat_minor": 2
}
